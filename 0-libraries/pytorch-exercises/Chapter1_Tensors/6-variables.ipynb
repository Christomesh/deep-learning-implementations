{
 "cells": [
  {
   "cell_type": "markdown",
   "metadata": {},
   "source": [
    "# Variables"
   ]
  },
  {
   "cell_type": "code",
   "execution_count": 1,
   "metadata": {},
   "outputs": [],
   "source": [
    "from __future__ import print_function\n",
    "import torch\n",
    "import numpy as np\n",
    "import matplotlib\n",
    "%matplotlib inline\n",
    "import matplotlib.pyplot as plt"
   ]
  },
  {
   "cell_type": "code",
   "execution_count": 2,
   "metadata": {},
   "outputs": [
    {
     "data": {
      "text/plain": [
       "datetime.date(2017, 9, 28)"
      ]
     },
     "execution_count": 2,
     "metadata": {},
     "output_type": "execute_result"
    }
   ],
   "source": [
    "from datetime import date\n",
    "date.today()"
   ]
  },
  {
   "cell_type": "code",
   "execution_count": 3,
   "metadata": {},
   "outputs": [],
   "source": [
    "author = \"kyubyong. https://github.com/Kyubyong/pytorch_exercises\""
   ]
  },
  {
   "cell_type": "code",
   "execution_count": 4,
   "metadata": {},
   "outputs": [
    {
     "data": {
      "text/plain": [
       "'0.2.0_3'"
      ]
     },
     "execution_count": 4,
     "metadata": {},
     "output_type": "execute_result"
    }
   ],
   "source": [
    "torch.__version__"
   ]
  },
  {
   "cell_type": "code",
   "execution_count": 5,
   "metadata": {},
   "outputs": [
    {
     "data": {
      "text/plain": [
       "'1.13.2'"
      ]
     },
     "execution_count": 5,
     "metadata": {},
     "output_type": "execute_result"
    }
   ],
   "source": [
    "np.__version__"
   ]
  },
  {
   "cell_type": "markdown",
   "metadata": {},
   "source": [
    "NOTE on notation\n",
    "\n",
    "    _x, _y, _z, ...: NumPy 0-d or 1-d arrays\n",
    "    _X, _Y, _Z, ...: NumPy 2-d or higer dimensional arrays\n",
    "    x, y, z, ...: 0-d or 1-d tensors\n",
    "    X, Y, Z, ...: 2-d or higher dimensional tensors\n"
   ]
  },
  {
   "cell_type": "code",
   "execution_count": 6,
   "metadata": {},
   "outputs": [],
   "source": [
    "from torch.autograd import Variable"
   ]
  },
  {
   "cell_type": "markdown",
   "metadata": {},
   "source": [
    "## Variables "
   ]
  },
  {
   "cell_type": "markdown",
   "metadata": {},
   "source": [
    "Q0. Create a variable `X` of the size (3, 2), filled with 1's."
   ]
  },
  {
   "cell_type": "code",
   "execution_count": 7,
   "metadata": {},
   "outputs": [
    {
     "name": "stdout",
     "output_type": "stream",
     "text": [
      "Variable containing:\n",
      " 1  1\n",
      " 1  1\n",
      " 1  1\n",
      "[torch.FloatTensor of size 3x2]\n",
      "\n"
     ]
    }
   ],
   "source": [
    "X = ...\n",
    "print(X)"
   ]
  },
  {
   "cell_type": "markdown",
   "metadata": {},
   "source": [
    "Q1. Get the tensor of Variable X."
   ]
  },
  {
   "cell_type": "code",
   "execution_count": 8,
   "metadata": {},
   "outputs": [
    {
     "name": "stdout",
     "output_type": "stream",
     "text": [
      "\n",
      " 0.8075  0.2259  0.7292\n",
      " 0.5840 -0.5985 -1.5452\n",
      " 0.7410 -0.2508 -1.1745\n",
      "[torch.FloatTensor of size 3x3]\n",
      "\n"
     ]
    }
   ],
   "source": [
    "X = Variable(torch.randn(3, 3))\n",
    "Y = ...\n",
    "print(Y)"
   ]
  },
  {
   "cell_type": "markdown",
   "metadata": {},
   "source": [
    "Q2. Complete the code."
   ]
  },
  {
   "cell_type": "code",
   "execution_count": 9,
   "metadata": {},
   "outputs": [
    {
     "data": {
      "image/png": "[encoded data removed]",
      "text/plain": [
       "<matplotlib.figure.Figure at 0x7fa47b9e0898>"
      ]
     },
     "metadata": {},
     "output_type": "display_data"
    }
   ],
   "source": [
    "# Create a trainable variable `w` of scalar 10.\n",
    "w = ...\n",
    "\n",
    "gs, ws, grads = [], [], []\n",
    "for i in range(10):\n",
    "    y = w ** 2 + 2\n",
    "    \n",
    "    # apply backpropagation to y.\n",
    "    ...\n",
    "    \n",
    "    w.data -= 0.01 * w.grad.data\n",
    "    \n",
    "    gs.append(i)\n",
    "    ws.append(w.data[0])\n",
    "    grads.append(w.grad.data[0])\n",
    "\n",
    "plt.figure(figsize=(15,6))\n",
    "ax=plt.subplot(1, 2, 1)\n",
    "ax.scatter(gs, ws, c=\"b\", label=\"w\")\n",
    "ax.legend(loc=\"upper right\")\n",
    "ax=plt.subplot(1, 2, 2)\n",
    "plt.scatter(gs, grads, c=\"r\", label=\"gradient\")\n",
    "plt.legend(loc=\"upper left\")\n",
    "plt.show()\n"
   ]
  },
  {
   "cell_type": "markdown",
   "metadata": {
    "collapsed": true
   },
   "source": [
    "Q3. Complete the code. <br>This is adapted from `http://pytorch.org/tutorials/beginner/examples_autograd/two_layer_net_autograd.html`."
   ]
  },
  {
   "cell_type": "code",
   "execution_count": 10,
   "metadata": {},
   "outputs": [
    {
     "name": "stdout",
     "output_type": "stream",
     "text": [
      "Epoch 010/500: loss 3622828.00000\n",
      "Epoch 020/500: loss 240678.50000\n",
      "Epoch 030/500: loss 68993.89062\n",
      "Epoch 040/500: loss 24136.43945\n",
      "Epoch 050/500: loss 9427.08691\n",
      "Epoch 060/500: loss 3968.63916\n",
      "Epoch 070/500: loss 1762.71545\n",
      "Epoch 080/500: loss 816.37415\n",
      "Epoch 090/500: loss 388.99170\n",
      "Epoch 100/500: loss 189.52725\n",
      "Epoch 110/500: loss 94.02654\n",
      "Epoch 120/500: loss 47.34197\n",
      "Epoch 130/500: loss 24.13431\n",
      "Epoch 140/500: loss 12.43430\n",
      "Epoch 150/500: loss 6.46430\n",
      "Epoch 160/500: loss 3.38794\n",
      "Epoch 170/500: loss 1.78757\n",
      "Epoch 180/500: loss 0.94889\n",
      "Epoch 190/500: loss 0.50667\n",
      "Epoch 200/500: loss 0.27179\n",
      "Epoch 210/500: loss 0.14644\n",
      "Epoch 220/500: loss 0.07919\n",
      "Epoch 230/500: loss 0.04301\n",
      "Epoch 240/500: loss 0.02346\n",
      "Epoch 250/500: loss 0.01288\n",
      "Epoch 260/500: loss 0.00713\n",
      "Epoch 270/500: loss 0.00402\n",
      "Epoch 280/500: loss 0.00232\n",
      "Epoch 290/500: loss 0.00139\n",
      "Epoch 300/500: loss 0.00086\n",
      "Epoch 310/500: loss 0.00056\n",
      "Epoch 320/500: loss 0.00038\n",
      "Epoch 330/500: loss 0.00026\n",
      "Epoch 340/500: loss 0.00019\n",
      "Epoch 350/500: loss 0.00014\n",
      "Epoch 360/500: loss 0.00011\n",
      "Epoch 370/500: loss 0.00009\n",
      "Epoch 380/500: loss 0.00007\n",
      "Epoch 390/500: loss 0.00006\n",
      "Epoch 400/500: loss 0.00005\n",
      "Epoch 410/500: loss 0.00004\n",
      "Epoch 420/500: loss 0.00003\n",
      "Epoch 430/500: loss 0.00003\n",
      "Epoch 440/500: loss 0.00003\n",
      "Epoch 450/500: loss 0.00002\n",
      "Epoch 460/500: loss 0.00002\n",
      "Epoch 470/500: loss 0.00002\n",
      "Epoch 480/500: loss 0.00002\n",
      "Epoch 490/500: loss 0.00001\n",
      "Epoch 500/500: loss 0.00001\n"
     ]
    },
    {
     "data": {
      "image/png": "[encoded data removed]",
      "text/plain": [
       "<matplotlib.figure.Figure at 0x7fa47148ec18>"
      ]
     },
     "metadata": {},
     "output_type": "display_data"
    }
   ],
   "source": [
    "# Untrainable variables\n",
    "# Create untrainable variables X and Y.\n",
    "X = Variable(torch.randn(64, 1000), ...)\n",
    "Y = Variable(torch.randn(64, 10), ...)\n",
    "\n",
    "# Trainable Variables\n",
    "w1 = Variable(torch.randn(1000, 100), requires_grad=True)\n",
    "w2 = Variable(torch.randn(100, 10), requires_grad=True)\n",
    "\n",
    "# Parameters\n",
    "n_epochs = 500\n",
    "learning_rate = 1e-6\n",
    "log_interval = 10\n",
    "\n",
    "losses = []\n",
    "for t in range(n_epochs):\n",
    "    Y_pred = X.matmul(w1).clamp(min=0).matmul(w2)\n",
    "    \n",
    "    # Apply L2 loss to Y pred and Y.\n",
    "    loss = ...\n",
    "    losses.append(loss.data[0])\n",
    "\n",
    "    loss.backward()\n",
    "    \n",
    "    w1.data -= learning_rate * w1.grad.data\n",
    "    w2.data -= learning_rate * w2.grad.data  \n",
    "\n",
    "    # Manually zero the gradients after updating weights\n",
    "    w1.grad.data.zero_()\n",
    "    w2.grad.data.zero_()\n",
    "    \n",
    "    if (t + 1) % log_interval == 0:\n",
    "        print(\"Epoch {:03d}/{:03d}: loss {:.5f}\".format(\n",
    "                t + 1, n_epochs, loss.data[0]))\n",
    "\n",
    "# plot\n",
    "plt.figure()\n",
    "plt.plot(losses, label=\"loss\")\n",
    "plt.legend()\n",
    "plt.show()\n"
   ]
  },
  {
   "cell_type": "code",
   "execution_count": null,
   "metadata": {},
   "outputs": [],
   "source": []
  }
 ],
 "metadata": {
  "anaconda-cloud": {},
  "kernelspec": {
   "display_name": "Python 3",
   "language": "python",
   "name": "python3"
  },
  "language_info": {
   "codemirror_mode": {
    "name": "ipython",
    "version": 3
   },
   "file_extension": ".py",
   "mimetype": "text/x-python",
   "name": "python",
   "nbconvert_exporter": "python",
   "pygments_lexer": "ipython3",
   "version": "3.6.2"
  }
 },
 "nbformat": 4,
 "nbformat_minor": 1
}
