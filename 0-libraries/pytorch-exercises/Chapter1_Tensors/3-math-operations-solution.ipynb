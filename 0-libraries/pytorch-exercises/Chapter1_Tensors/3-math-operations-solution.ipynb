{
 "cells": [
  {
   "cell_type": "markdown",
   "metadata": {},
   "source": [
    "# Math Operations"
   ]
  },
  {
   "cell_type": "code",
   "execution_count": 1,
   "metadata": {},
   "outputs": [],
   "source": [
    "from __future__ import print_function\n",
    "import torch\n",
    "import numpy as np"
   ]
  },
  {
   "cell_type": "code",
   "execution_count": 2,
   "metadata": {},
   "outputs": [
    {
     "data": {
      "text/plain": [
       "datetime.date(2017, 9, 26)"
      ]
     },
     "execution_count": 2,
     "metadata": {},
     "output_type": "execute_result"
    }
   ],
   "source": [
    "from datetime import date\n",
    "date.today()"
   ]
  },
  {
   "cell_type": "code",
   "execution_count": 3,
   "metadata": {},
   "outputs": [],
   "source": [
    "author = \"kyubyong. https://github.com/Kyubyong/pytorch_exercises\""
   ]
  },
  {
   "cell_type": "code",
   "execution_count": 4,
   "metadata": {},
   "outputs": [
    {
     "data": {
      "text/plain": [
       "'0.2.0_3'"
      ]
     },
     "execution_count": 4,
     "metadata": {},
     "output_type": "execute_result"
    }
   ],
   "source": [
    "torch.__version__"
   ]
  },
  {
   "cell_type": "code",
   "execution_count": 5,
   "metadata": {},
   "outputs": [
    {
     "data": {
      "text/plain": [
       "'1.13.0'"
      ]
     },
     "execution_count": 5,
     "metadata": {},
     "output_type": "execute_result"
    }
   ],
   "source": [
    "np.__version__"
   ]
  },
  {
   "cell_type": "markdown",
   "metadata": {},
   "source": [
    "NOTE on notation\n",
    "\n",
    "_x, _y, _z, ...: NumPy 0-d or 1-d arrays<br/>\n",
    "_X, _Y, _Z, ...: NumPy 2-d or higer dimensional arrays<br/>\n",
    "x, y, z, ...: 0-d or 1-d tensors<br/>\n",
    "X, Y, Z, ...: 2-d or higher dimensional tensors"
   ]
  },
  {
   "cell_type": "markdown",
   "metadata": {},
   "source": [
    "## Trigonometric functions"
   ]
  },
  {
   "cell_type": "markdown",
   "metadata": {},
   "source": [
    "Q1. Calculate sine, cosine, and tangent of x, element-wise."
   ]
  },
  {
   "cell_type": "code",
   "execution_count": 3,
   "metadata": {},
   "outputs": [
    {
     "name": "stdout",
     "output_type": "stream",
     "text": [
      "• sine x= \n",
      " 0.0000\n",
      " 0.8415\n",
      "-0.9880\n",
      " 0.8940\n",
      "[torch.FloatTensor of size 4]\n",
      "\n",
      "• cosine x= \n",
      " 1.0000\n",
      " 0.5403\n",
      " 0.1543\n",
      "-0.4481\n",
      "[torch.FloatTensor of size 4]\n",
      "\n",
      "• tangent x= \n",
      " 0.0000\n",
      " 1.5574\n",
      "-6.4053\n",
      "-1.9952\n",
      "[torch.FloatTensor of size 4]\n",
      "\n"
     ]
    }
   ],
   "source": [
    "x = torch.FloatTensor([0., 1., 30, 90])\n",
    "sinx = x.sin()\n",
    "cosx = x.cos()\n",
    "tanx = x.tan()\n",
    "print(\"• sine x=\", sinx)\n",
    "print(\"• cosine x=\", cosx)\n",
    "print(\"• tangent x=\", tanx)\n",
    "\n",
    "assert np.allclose(sinx.numpy(), np.sin(x.numpy()))\n",
    "assert np.allclose(cosx.numpy(), np.cos(x.numpy()) )\n",
    "assert np.allclose(tanx.numpy(), np.tan(x.numpy()) )\n"
   ]
  },
  {
   "cell_type": "markdown",
   "metadata": {},
   "source": [
    "Q2. Calculate inverse sine, inverse cosine, and inverse tangent of x, element-wise."
   ]
  },
  {
   "cell_type": "code",
   "execution_count": 4,
   "metadata": {},
   "outputs": [
    {
     "name": "stdout",
     "output_type": "stream",
     "text": [
      "• inverse sine x= \n",
      "-1.5708\n",
      " 0.0000\n",
      " 1.5708\n",
      "[torch.FloatTensor of size 3]\n",
      "\n",
      "• inversecosine x= \n",
      " 3.1416\n",
      " 1.5708\n",
      " 0.0000\n",
      "[torch.FloatTensor of size 3]\n",
      "\n",
      "• inverse tangent x= \n",
      "-0.7854\n",
      " 0.0000\n",
      " 0.7854\n",
      "[torch.FloatTensor of size 3]\n",
      "\n"
     ]
    }
   ],
   "source": [
    "x = torch.FloatTensor([-1., 0, 1.])\n",
    "asinx = x.asin()\n",
    "acosx = x.acos()\n",
    "atanx = x.atan()\n",
    "\n",
    "print(\"• inverse sine x=\", asinx)\n",
    "print(\"• inversecosine x=\", acosx)\n",
    "print(\"• inverse tangent x=\", atanx)\n",
    "\n",
    "assert np.allclose(asinx.numpy(), np.arcsin(x.numpy()) )\n",
    "assert np.allclose(acosx.numpy(), np.arccos(x.numpy()) )\n",
    "assert np.allclose(atanx.numpy(), np.arctan(x.numpy()) )\n",
    "\n"
   ]
  },
  {
   "cell_type": "markdown",
   "metadata": {},
   "source": [
    "## Hyperbolic functions"
   ]
  },
  {
   "cell_type": "markdown",
   "metadata": {},
   "source": [
    "Q3. Calculate hyperbolic sine, hyperbolic cosine, and hyperbolic tangent of x, element-wise."
   ]
  },
  {
   "cell_type": "code",
   "execution_count": 5,
   "metadata": {},
   "outputs": [
    {
     "name": "stdout",
     "output_type": "stream",
     "text": [
      "• hyperbolic sine x= \n",
      "-1.1752\n",
      " 0.0000\n",
      " 1.1752\n",
      "[torch.FloatTensor of size 3]\n",
      "\n",
      "• hyperbolic cosine x= \n",
      " 1.5431\n",
      " 1.0000\n",
      " 1.5431\n",
      "[torch.FloatTensor of size 3]\n",
      "\n",
      "• hyperbolic tangent x= \n",
      "-0.7616\n",
      " 0.0000\n",
      " 0.7616\n",
      "[torch.FloatTensor of size 3]\n",
      "\n"
     ]
    }
   ],
   "source": [
    "x = torch.FloatTensor([-1., 0, 1.])\n",
    "sinhx = x.sinh()\n",
    "coshx = x.cosh()\n",
    "tanhx = x.tanh()\n",
    "\n",
    "print(\"• hyperbolic sine x=\", sinhx)\n",
    "print(\"• hyperbolic cosine x=\", coshx)\n",
    "print(\"• hyperbolic tangent x=\", tanhx)\n",
    "\n",
    "assert np.allclose(sinhx.numpy(), np.sinh(x.numpy()))\n",
    "assert np.allclose(coshx.numpy(), np.cosh(x.numpy()))\n",
    "assert np.allclose(tanhx.numpy(), np.tanh(x.numpy()))"
   ]
  },
  {
   "cell_type": "markdown",
   "metadata": {},
   "source": [
    "## Rounding"
   ]
  },
  {
   "cell_type": "markdown",
   "metadata": {},
   "source": [
    "Q4. Predict the results of these."
   ]
  },
  {
   "cell_type": "code",
   "execution_count": 6,
   "metadata": {},
   "outputs": [
    {
     "name": "stdout",
     "output_type": "stream",
     "text": [
      "• roundx= \n",
      " 2\n",
      " 2\n",
      " 3\n",
      " 3\n",
      "-2\n",
      "-3\n",
      "-3\n",
      "[torch.FloatTensor of size 7]\n",
      "\n",
      "• floorx= \n",
      " 2\n",
      " 1\n",
      " 2\n",
      " 2\n",
      "-3\n",
      "-3\n",
      "-3\n",
      "[torch.FloatTensor of size 7]\n",
      "\n",
      "• ceilx= \n",
      " 3\n",
      " 2\n",
      " 3\n",
      " 3\n",
      "-2\n",
      "-2\n",
      "-2\n",
      "[torch.FloatTensor of size 7]\n",
      "\n",
      "• truncx= \n",
      " 2\n",
      " 1\n",
      " 2\n",
      " 2\n",
      "-2\n",
      "-2\n",
      "-2\n",
      "[torch.FloatTensor of size 7]\n",
      "\n"
     ]
    }
   ],
   "source": [
    "x = torch.FloatTensor([2.1, 1.5, 2.5, 2.9, -2.1, -2.5, -2.9])\n",
    "\n",
    "roundx = x.round()\n",
    "floorx = x.floor()\n",
    "ceilx = x.ceil()\n",
    "truncx = x.trunc()\n",
    "\n",
    "print(\"• roundx=\", roundx)\n",
    "print(\"• floorx=\", floorx)\n",
    "print(\"• ceilx=\", ceilx)\n",
    "print(\"• truncx=\", truncx)"
   ]
  },
  {
   "cell_type": "markdown",
   "metadata": {},
   "source": [
    "## Sum, product"
   ]
  },
  {
   "cell_type": "markdown",
   "metadata": {},
   "source": [
    "Q5. Sum the elements of X along the first dimension, retaining it."
   ]
  },
  {
   "cell_type": "code",
   "execution_count": 7,
   "metadata": {},
   "outputs": [
    {
     "name": "stdout",
     "output_type": "stream",
     "text": [
      "\n",
      "  6   8  10  12\n",
      "[torch.FloatTensor of size 1x4]\n",
      "\n"
     ]
    }
   ],
   "source": [
    "X = torch.Tensor(\n",
    "    [[1, 2, 3, 4],\n",
    "     [5, 6, 7, 8]])\n",
    "\n",
    "print(X.sum(dim=0, keepdim=True))"
   ]
  },
  {
   "cell_type": "markdown",
   "metadata": {},
   "source": [
    "Q6. Return the product of all elements in X."
   ]
  },
  {
   "cell_type": "code",
   "execution_count": 8,
   "metadata": {},
   "outputs": [
    {
     "name": "stdout",
     "output_type": "stream",
     "text": [
      "40320.0\n"
     ]
    }
   ],
   "source": [
    "X = torch.Tensor(\n",
    "    [[1, 2, 3, 4],\n",
    "     [5, 6, 7, 8]])\n",
    "\n",
    "print(X.prod())"
   ]
  },
  {
   "cell_type": "markdown",
   "metadata": {},
   "source": [
    "Q7. Return the cumulative sum of all elements along the second axis in X."
   ]
  },
  {
   "cell_type": "code",
   "execution_count": 9,
   "metadata": {},
   "outputs": [
    {
     "name": "stdout",
     "output_type": "stream",
     "text": [
      "\n",
      "  1   3   6  10\n",
      "  5  11  18  26\n",
      "[torch.FloatTensor of size 2x4]\n",
      "\n"
     ]
    }
   ],
   "source": [
    "X = torch.Tensor(\n",
    "    [[1, 2, 3, 4],\n",
    "     [5, 6, 7, 8]])\n",
    "\n",
    "print(X.cumsum(dim=1))\n"
   ]
  },
  {
   "cell_type": "markdown",
   "metadata": {},
   "source": [
    "Q8. Return the cumulative product of all elements along the second axis in X."
   ]
  },
  {
   "cell_type": "code",
   "execution_count": 10,
   "metadata": {},
   "outputs": [
    {
     "name": "stdout",
     "output_type": "stream",
     "text": [
      "\n",
      "    1     2     6    24\n",
      "    5    30   210  1680\n",
      "[torch.FloatTensor of size 2x4]\n",
      "\n"
     ]
    }
   ],
   "source": [
    "X = torch.Tensor(\n",
    "    [[1, 2, 3, 4],\n",
    "     [5, 6, 7, 8]])\n",
    "\n",
    "print(X.cumprod(dim=1))\n"
   ]
  },
  {
   "cell_type": "markdown",
   "metadata": {},
   "source": [
    "## Exponents and logarithms"
   ]
  },
  {
   "cell_type": "markdown",
   "metadata": {},
   "source": [
    "Q9. Compute $e^x$, element-wise."
   ]
  },
  {
   "cell_type": "code",
   "execution_count": 11,
   "metadata": {},
   "outputs": [
    {
     "name": "stdout",
     "output_type": "stream",
     "text": [
      "\n",
      "  2.7183\n",
      "  7.3891\n",
      " 20.0855\n",
      "[torch.FloatTensor of size 3]\n",
      "\n"
     ]
    }
   ],
   "source": [
    "x = torch.Tensor([1., 2., 3.])\n",
    "y = x.exp()\n",
    "print(y)\n",
    "\n",
    "assert np.array_equal(y.numpy(), np.exp(x.numpy()))\n"
   ]
  },
  {
   "cell_type": "markdown",
   "metadata": {},
   "source": [
    "Q10. Compute logarithms of x element-wise."
   ]
  },
  {
   "cell_type": "code",
   "execution_count": 13,
   "metadata": {},
   "outputs": [
    {
     "name": "stdout",
     "output_type": "stream",
     "text": [
      "\n",
      " 0.0000\n",
      " 1.0000\n",
      " 2.0000\n",
      "[torch.FloatTensor of size 3]\n",
      "\n"
     ]
    }
   ],
   "source": [
    "x = torch.Tensor([1, np.e, np.e**2])\n",
    "y = x.log()\n",
    "print(y)\n",
    "\n",
    "assert np.allclose(y.numpy(), np.log(x.numpy()))\n"
   ]
  },
  {
   "cell_type": "markdown",
   "metadata": {},
   "source": [
    "## Arithmetic Ops"
   ]
  },
  {
   "cell_type": "markdown",
   "metadata": {},
   "source": [
    "Q11. Add x and y element-wise."
   ]
  },
  {
   "cell_type": "code",
   "execution_count": 14,
   "metadata": {},
   "outputs": [
    {
     "name": "stdout",
     "output_type": "stream",
     "text": [
      "\n",
      " 0\n",
      " 0\n",
      " 0\n",
      "[torch.FloatTensor of size 3]\n",
      "\n"
     ]
    }
   ],
   "source": [
    "x = torch.Tensor([1, 2, 3])\n",
    "y = torch.Tensor([-1, -2, -3])\n",
    "z = x.add(y)\n",
    "print(z)\n",
    "\n",
    "assert np.array_equal(z.numpy(), np.add(x.numpy(), y.numpy()))\n"
   ]
  },
  {
   "cell_type": "markdown",
   "metadata": {},
   "source": [
    "Q12. Subtract y from x element-wise."
   ]
  },
  {
   "cell_type": "code",
   "execution_count": 39,
   "metadata": {},
   "outputs": [
    {
     "name": "stdout",
     "output_type": "stream",
     "text": [
      "\n",
      "-2\n",
      "-4\n",
      "-6\n",
      "[torch.FloatTensor of size 3]\n",
      "\n"
     ]
    }
   ],
   "source": [
    "x = torch.Tensor([1, 2, 3])\n",
    "y = torch.Tensor([-1, -2, -3])\n",
    "z = y.sub(x)\n",
    "print(z)\n",
    "\n",
    "assert np.array_equal(z.numpy(), np.subtract(y.numpy(), x.numpy()))\n"
   ]
  },
  {
   "cell_type": "markdown",
   "metadata": {},
   "source": [
    "Q13. Multiply x by y element-wise."
   ]
  },
  {
   "cell_type": "code",
   "execution_count": 15,
   "metadata": {},
   "outputs": [
    {
     "name": "stdout",
     "output_type": "stream",
     "text": [
      "\n",
      " 3\n",
      " 0\n",
      "-5\n",
      "[torch.FloatTensor of size 3]\n",
      "\n"
     ]
    }
   ],
   "source": [
    "x = torch.Tensor([3, 4, 5])\n",
    "y = torch.Tensor([1, 0, -1])\n",
    "x_y = x.mul(y)\n",
    "print(x_y)\n",
    "\n",
    "assert np.array_equal(x_y.numpy(), np.multiply(x.numpy(), y.numpy()))\n"
   ]
  },
  {
   "cell_type": "markdown",
   "metadata": {},
   "source": [
    "Q14. Divide x by y element-wise."
   ]
  },
  {
   "cell_type": "code",
   "execution_count": 16,
   "metadata": {},
   "outputs": [
    {
     "name": "stdout",
     "output_type": "stream",
     "text": [
      "\n",
      " 3.0000\n",
      " 2.0000\n",
      " 1.6667\n",
      "[torch.FloatTensor of size 3]\n",
      "\n"
     ]
    }
   ],
   "source": [
    "x = torch.FloatTensor([3., 4., 5.])\n",
    "y = torch.FloatTensor([1., 2., 3.])\n",
    "z = x.div(y)\n",
    "print(z)\n",
    "\n",
    "assert np.allclose(z.numpy(), np.true_divide(x.numpy(), y.numpy()))\n"
   ]
  },
  {
   "cell_type": "markdown",
   "metadata": {},
   "source": [
    "Q15. Compute numerical negative value of x, element-wise."
   ]
  },
  {
   "cell_type": "code",
   "execution_count": 17,
   "metadata": {},
   "outputs": [
    {
     "name": "stdout",
     "output_type": "stream",
     "text": [
      "\n",
      "-1\n",
      " 1\n",
      "[torch.FloatTensor of size 2]\n",
      "\n"
     ]
    }
   ],
   "source": [
    "x = torch.Tensor([1, -1])\n",
    "negx = x.neg()\n",
    "print(negx)\n",
    "\n",
    "assert np.array_equal(negx.numpy(), np.negative(x.numpy()))\n"
   ]
  },
  {
   "cell_type": "markdown",
   "metadata": {},
   "source": [
    "Q16. Compute the reciprocal of x, element-wise."
   ]
  },
  {
   "cell_type": "code",
   "execution_count": 18,
   "metadata": {},
   "outputs": [
    {
     "name": "stdout",
     "output_type": "stream",
     "text": [
      "\n",
      " 1.0000\n",
      " 0.5000\n",
      " 5.0000\n",
      "[torch.FloatTensor of size 3]\n",
      "\n"
     ]
    }
   ],
   "source": [
    "x = torch.Tensor([1., 2., .2])\n",
    "y = x.reciprocal()\n",
    "print(y)\n",
    "\n",
    "assert np.array_equal(y.numpy(), np.reciprocal(x.numpy()))\n"
   ]
  },
  {
   "cell_type": "markdown",
   "metadata": {},
   "source": [
    "Q17. Compute $X^Y$, element-wise."
   ]
  },
  {
   "cell_type": "code",
   "execution_count": 19,
   "metadata": {},
   "outputs": [
    {
     "name": "stdout",
     "output_type": "stream",
     "text": [
      "\n",
      "  1   4\n",
      "  3  16\n",
      "[torch.FloatTensor of size 2x2]\n",
      "\n"
     ]
    }
   ],
   "source": [
    "X = torch.Tensor([[1, 2], [3, 4]])\n",
    "Y = torch.Tensor([[1, 2], [1, 2]])\n",
    "X_Y = X.pow(Y)\n",
    "print(X_Y)\n",
    "\n",
    "assert np.array_equal(X_Y.numpy(), np.power(X.numpy(), Y.numpy()))\n"
   ]
  },
  {
   "cell_type": "markdown",
   "metadata": {},
   "source": [
    "Q18. Compute the remainder of x / y element-wise."
   ]
  },
  {
   "cell_type": "code",
   "execution_count": 20,
   "metadata": {},
   "outputs": [
    {
     "name": "stdout",
     "output_type": "stream",
     "text": [
      "\n",
      " 1\n",
      " 0\n",
      " 1\n",
      " 1\n",
      " 0\n",
      " 1\n",
      "[torch.FloatTensor of size 6]\n",
      "\n"
     ]
    }
   ],
   "source": [
    "x = torch.Tensor([-3, -2, -1, 1, 2, 3])\n",
    "y = 2.\n",
    "z = x.remainder(y)\n",
    "print(z)\n",
    "\n",
    "assert np.array_equal(z.numpy(), np.remainder(x.numpy(), y))\n"
   ]
  },
  {
   "cell_type": "markdown",
   "metadata": {},
   "source": [
    "Q19. Compute the fractional portion of each element of x."
   ]
  },
  {
   "cell_type": "code",
   "execution_count": 21,
   "metadata": {},
   "outputs": [
    {
     "name": "stdout",
     "output_type": "stream",
     "text": [
      "\n",
      " 0.0000\n",
      " 0.5000\n",
      "-0.2000\n",
      "[torch.FloatTensor of size 3]\n",
      "\n"
     ]
    }
   ],
   "source": [
    "x = torch.Tensor([1., 2.5, -3.2])\n",
    "y = x.frac()\n",
    "print(y)\n",
    "\n",
    "assert np.allclose(y.numpy(), np.modf(x.numpy())[0])"
   ]
  },
  {
   "cell_type": "markdown",
   "metadata": {},
   "source": [
    "## Comparision Ops"
   ]
  },
  {
   "cell_type": "markdown",
   "metadata": {},
   "source": [
    "Q20. Return True if X and Y have the same size and elements, otherise False."
   ]
  },
  {
   "cell_type": "code",
   "execution_count": 24,
   "metadata": {},
   "outputs": [
    {
     "name": "stdout",
     "output_type": "stream",
     "text": [
      "x= \n",
      " 1\n",
      " 2\n",
      " 0\n",
      "[torch.LongTensor of size 3]\n",
      "\n",
      "y= \n",
      " 1\n",
      " 0\n",
      " 2\n",
      "[torch.LongTensor of size 3]\n",
      "\n",
      "False\n"
     ]
    }
   ],
   "source": [
    "x = torch.randperm(3)\n",
    "y = torch.randperm(3)\n",
    "print(\"x=\", x)\n",
    "print(\"y=\", y)\n",
    "z = x.equal(y)\n",
    "print(z)\n",
    "\n",
    "#np.array_equal(x.numpy(), y.numpy())"
   ]
  },
  {
   "cell_type": "markdown",
   "metadata": {},
   "source": [
    "Q21. Return 1 if an element of X is 0, otherwise 0."
   ]
  },
  {
   "cell_type": "code",
   "execution_count": 25,
   "metadata": {
    "scrolled": true
   },
   "outputs": [
    {
     "name": "stdout",
     "output_type": "stream",
     "text": [
      "\n",
      " 0  0  0\n",
      " 1  0  0\n",
      "[torch.ByteTensor of size 2x3]\n",
      "\n"
     ]
    }
   ],
   "source": [
    "X = torch.Tensor( [[-1, -2, -3], [0, 1, 2]] )\n",
    "Y = X.eq(0)\n",
    "print(Y)\n",
    "\n",
    "assert np.allclose(Y.numpy(), np.equal(X.numpy(), 0))"
   ]
  },
  {
   "cell_type": "markdown",
   "metadata": {},
   "source": [
    "Q22. Return 0 if an element of X is 0, otherwise 1."
   ]
  },
  {
   "cell_type": "code",
   "execution_count": 26,
   "metadata": {},
   "outputs": [
    {
     "name": "stdout",
     "output_type": "stream",
     "text": [
      "\n",
      " 1  1  1\n",
      " 0  1  1\n",
      "[torch.ByteTensor of size 2x3]\n",
      "\n"
     ]
    }
   ],
   "source": [
    "X = torch.Tensor( [[-1, -2, -3], [0, 1, 2]] )\n",
    "Y = X.ne(0)\n",
    "print(Y)\n",
    "\n",
    "assert np.allclose(Y.numpy(), np.not_equal(X.numpy(), 0))"
   ]
  },
  {
   "cell_type": "markdown",
   "metadata": {},
   "source": [
    "Q23. Compute x >= y, x > y, x < y, and x <= y element-wise."
   ]
  },
  {
   "cell_type": "code",
   "execution_count": 28,
   "metadata": {},
   "outputs": [
    {
     "name": "stdout",
     "output_type": "stream",
     "text": [
      "x= \n",
      " 1\n",
      " 0\n",
      " 2\n",
      "[torch.LongTensor of size 3]\n",
      "\n",
      "y= \n",
      " 0\n",
      " 1\n",
      " 2\n",
      "[torch.LongTensor of size 3]\n",
      "\n",
      "#1. X >= Y \n",
      " 1\n",
      " 0\n",
      " 1\n",
      "[torch.ByteTensor of size 3]\n",
      "\n",
      "#2. X > Y \n",
      " 1\n",
      " 0\n",
      " 0\n",
      "[torch.ByteTensor of size 3]\n",
      "\n",
      "X <= Y \n",
      " 0\n",
      " 1\n",
      " 1\n",
      "[torch.ByteTensor of size 3]\n",
      "\n",
      "X < Y \n",
      " 0\n",
      " 1\n",
      " 0\n",
      "[torch.ByteTensor of size 3]\n",
      "\n"
     ]
    }
   ],
   "source": [
    "x = torch.randperm(3)\n",
    "y = torch.randperm(3)\n",
    "print(\"x=\", x)\n",
    "print(\"y=\", y)\n",
    "\n",
    "#1. x >= y\n",
    "z = x.ge(y)\n",
    "print(\"#1. x >= y\", z)\n",
    "\n",
    "#2. x > y\n",
    "z = x.gt(y)\n",
    "print(\"#2. x > y\", z)\n",
    "\n",
    "#3. x <= y\n",
    "z = x.le(y)\n",
    "print(\"#3. x <= y\", z)\n",
    "\n",
    "#4. x < y\n",
    "z = x.lt(y)\n",
    "print(\"#4. x < y\", z)"
   ]
  },
  {
   "cell_type": "markdown",
   "metadata": {},
   "source": [
    "## Miscellaneous"
   ]
  },
  {
   "cell_type": "markdown",
   "metadata": {},
   "source": [
    "Q24. If an element of x is smaller than 3, replace it with 3.\n",
    "And if an element of x is bigger than 7, replace it with 7."
   ]
  },
  {
   "cell_type": "code",
   "execution_count": 29,
   "metadata": {},
   "outputs": [
    {
     "name": "stdout",
     "output_type": "stream",
     "text": [
      "\n",
      " 3\n",
      " 3\n",
      " 3\n",
      " 3\n",
      " 4\n",
      " 5\n",
      " 6\n",
      " 7\n",
      " 7\n",
      " 7\n",
      "[torch.FloatTensor of size 10]\n",
      "\n"
     ]
    }
   ],
   "source": [
    "x = torch.arange(0, 10)\n",
    "y = x.clamp(min=3, max=7)\n",
    "print(y)\n",
    "\n",
    "assert np.array_equal(y.numpy(), np.clip(x.numpy(), a_min=3, a_max=7))"
   ]
  },
  {
   "cell_type": "markdown",
   "metadata": {},
   "source": [
    "Q25. If an element of x is smaller than 3, replace it with 3."
   ]
  },
  {
   "cell_type": "code",
   "execution_count": 30,
   "metadata": {},
   "outputs": [
    {
     "name": "stdout",
     "output_type": "stream",
     "text": [
      "\n",
      " 3\n",
      " 3\n",
      " 3\n",
      " 3\n",
      " 4\n",
      " 5\n",
      " 6\n",
      " 7\n",
      " 8\n",
      " 9\n",
      "[torch.FloatTensor of size 10]\n",
      "\n"
     ]
    }
   ],
   "source": [
    "x = torch.arange(0, 10)\n",
    "y = x.clamp(min=3)\n",
    "print(y)\n",
    "\n",
    "assert np.array_equal(y.numpy(), np.clip(x.numpy(), a_min=3, a_max=None))"
   ]
  },
  {
   "cell_type": "markdown",
   "metadata": {},
   "source": [
    "Q26. If an element of x is bigger than 7, replace it with 7."
   ]
  },
  {
   "cell_type": "code",
   "execution_count": 31,
   "metadata": {},
   "outputs": [
    {
     "name": "stdout",
     "output_type": "stream",
     "text": [
      "\n",
      " 0\n",
      " 1\n",
      " 2\n",
      " 3\n",
      " 4\n",
      " 5\n",
      " 6\n",
      " 7\n",
      " 7\n",
      " 7\n",
      "[torch.FloatTensor of size 10]\n",
      "\n"
     ]
    }
   ],
   "source": [
    "x = torch.arange(0, 10)\n",
    "y = x.clamp(max=7)\n",
    "print(y)\n",
    "\n",
    "assert np.array_equal(y.numpy(), np.clip(x.numpy(), a_min=None, a_max=7))"
   ]
  },
  {
   "cell_type": "markdown",
   "metadata": {},
   "source": [
    "Q27. Compute square root of x element-wise.\n"
   ]
  },
  {
   "cell_type": "code",
   "execution_count": 32,
   "metadata": {},
   "outputs": [
    {
     "name": "stdout",
     "output_type": "stream",
     "text": [
      "\n",
      " 1\n",
      " 2\n",
      " 3\n",
      "[torch.FloatTensor of size 3]\n",
      "\n"
     ]
    }
   ],
   "source": [
    "x = torch.Tensor([1., 4., 9.])\n",
    "y = x.sqrt()\n",
    "print(y)\n",
    "\n",
    "assert np.array_equal(y.numpy(), np.sqrt(x.numpy()))\n"
   ]
  },
  {
   "cell_type": "markdown",
   "metadata": {},
   "source": [
    "Q28. Compute the reciprocal of the square root of x, element-wise."
   ]
  },
  {
   "cell_type": "code",
   "execution_count": 33,
   "metadata": {},
   "outputs": [
    {
     "name": "stdout",
     "output_type": "stream",
     "text": [
      "\n",
      " 1.0000\n",
      " 0.5000\n",
      " 0.3333\n",
      "[torch.FloatTensor of size 3]\n",
      "\n"
     ]
    }
   ],
   "source": [
    "x = torch.Tensor([1., 4., 9.])\n",
    "y = x.rsqrt()\n",
    "print(y)\n",
    "\n",
    "assert np.allclose(y.numpy(), np.reciprocal(np.sqrt(x.numpy())))"
   ]
  },
  {
   "cell_type": "markdown",
   "metadata": {},
   "source": [
    "Q29. Compute the absolute value of X."
   ]
  },
  {
   "cell_type": "code",
   "execution_count": 34,
   "metadata": {},
   "outputs": [
    {
     "name": "stdout",
     "output_type": "stream",
     "text": [
      "\n",
      " 1  1\n",
      " 3  3\n",
      "[torch.FloatTensor of size 2x2]\n",
      "\n"
     ]
    }
   ],
   "source": [
    "X = torch.Tensor([[1, -1], [3, -3]])\n",
    "Y = X.abs()\n",
    "print(Y)\n",
    "\n",
    "assert np.array_equal(Y.numpy(), np.abs(X.numpy()))\n",
    "\n"
   ]
  },
  {
   "cell_type": "markdown",
   "metadata": {},
   "source": [
    "Q30. Compute an element-wise indication of the sign of x, element-wise."
   ]
  },
  {
   "cell_type": "code",
   "execution_count": 35,
   "metadata": {},
   "outputs": [
    {
     "name": "stdout",
     "output_type": "stream",
     "text": [
      "\n",
      " 1\n",
      " 1\n",
      " 0\n",
      "-1\n",
      "-1\n",
      "[torch.FloatTensor of size 5]\n",
      "\n"
     ]
    }
   ],
   "source": [
    "x = torch.Tensor([1, 3, 0, -1, -3])\n",
    "y = x.sign()\n",
    "print(y)\n",
    "\n",
    "assert np.array_equal(y.numpy(), np.sign(x.numpy()))"
   ]
  },
  {
   "cell_type": "markdown",
   "metadata": {
    "collapsed": true
   },
   "source": [
    "Q31. Compute the sigmoid of x, elemet-wise."
   ]
  },
  {
   "cell_type": "code",
   "execution_count": 36,
   "metadata": {},
   "outputs": [
    {
     "name": "stdout",
     "output_type": "stream",
     "text": [
      "\n",
      " 0.7685\n",
      " 0.6682\n",
      " 0.2142\n",
      " 0.5250\n",
      "[torch.FloatTensor of size 4]\n",
      "\n"
     ]
    }
   ],
   "source": [
    "x = torch.FloatTensor([1.2, 0.7, -1.3, 0.1])\n",
    "y = x.sigmoid()\n",
    "print(y)\n",
    "\n",
    "assert np.allclose(y.numpy(), 1. / (1 + np.exp(-x.numpy())))"
   ]
  },
  {
   "cell_type": "markdown",
   "metadata": {},
   "source": [
    "Q32. Interpolate X and Y linearly with a weight of .9 on Y."
   ]
  },
  {
   "cell_type": "code",
   "execution_count": 37,
   "metadata": {},
   "outputs": [
    {
     "name": "stdout",
     "output_type": "stream",
     "text": [
      "\n",
      " 9.1000\n",
      " 9.2000\n",
      " 9.3000\n",
      " 9.4000\n",
      "[torch.FloatTensor of size 4]\n",
      "\n"
     ]
    }
   ],
   "source": [
    "X = torch.Tensor([1,2,3,4])\n",
    "Y = torch.Tensor([10,10,10,10])\n",
    "Z = X.lerp(Y, .9)\n",
    "print(Z)\n",
    "\n",
    "assert np.allclose(Z.numpy(), X.numpy() + (Y.numpy()-X.numpy())*.9)"
   ]
  },
  {
   "cell_type": "code",
   "execution_count": null,
   "metadata": {},
   "outputs": [],
   "source": []
  }
 ],
 "metadata": {
  "kernelspec": {
   "display_name": "Python 2",
   "language": "python",
   "name": "python2"
  },
  "language_info": {
   "codemirror_mode": {
    "name": "ipython",
    "version": 2
   },
   "file_extension": ".py",
   "mimetype": "text/x-python",
   "name": "python",
   "nbconvert_exporter": "python",
   "pygments_lexer": "ipython2",
   "version": "2.7.12"
  }
 },
 "nbformat": 4,
 "nbformat_minor": 1
}
