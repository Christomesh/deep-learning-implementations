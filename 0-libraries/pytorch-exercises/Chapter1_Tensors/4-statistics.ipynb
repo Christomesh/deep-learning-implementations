{
 "cells": [
  {
   "cell_type": "markdown",
   "metadata": {},
   "source": [
    "# Statistics"
   ]
  },
  {
   "cell_type": "code",
   "execution_count": 2,
   "metadata": {},
   "outputs": [],
   "source": [
    "from __future__ import print_function\n",
    "import torch\n",
    "import numpy as np"
   ]
  },
  {
   "cell_type": "code",
   "execution_count": 6,
   "metadata": {},
   "outputs": [
    {
     "data": {
      "text/plain": [
       "datetime.date(2017, 9, 26)"
      ]
     },
     "execution_count": 6,
     "metadata": {},
     "output_type": "execute_result"
    }
   ],
   "source": [
    "from datetime import date\n",
    "date.today()"
   ]
  },
  {
   "cell_type": "code",
   "execution_count": 7,
   "metadata": {},
   "outputs": [],
   "source": [
    "author = \"kyubyong. https://github.com/Kyubyong/pytorch_exercises\""
   ]
  },
  {
   "cell_type": "code",
   "execution_count": 8,
   "metadata": {},
   "outputs": [
    {
     "data": {
      "text/plain": [
       "'0.2.0_3'"
      ]
     },
     "execution_count": 8,
     "metadata": {},
     "output_type": "execute_result"
    }
   ],
   "source": [
    "torch.__version__"
   ]
  },
  {
   "cell_type": "code",
   "execution_count": 9,
   "metadata": {},
   "outputs": [
    {
     "data": {
      "text/plain": [
       "'1.13.0'"
      ]
     },
     "execution_count": 9,
     "metadata": {},
     "output_type": "execute_result"
    }
   ],
   "source": [
    "np.__version__"
   ]
  },
  {
   "cell_type": "markdown",
   "metadata": {},
   "source": [
    "NOTE on notation\n",
    "\n",
    "_x, _y, _z, ...: NumPy 0-d or 1-d arrays<br/>\n",
    "_X, _Y, _Z, ...: NumPy 2-d or higer dimensional arrays<br/>\n",
    "x, y, z, ...: 0-d or 1-d tensors<br/>\n",
    "X, Y, Z, ...: 2-d or higher dimensional tensors"
   ]
  },
  {
   "cell_type": "markdown",
   "metadata": {},
   "source": [
    "## Order statistics"
   ]
  },
  {
   "cell_type": "markdown",
   "metadata": {},
   "source": [
    "Q0. Return the maximum value and its location of all elements along the second axis in X."
   ]
  },
  {
   "cell_type": "code",
   "execution_count": 3,
   "metadata": {},
   "outputs": [
    {
     "name": "stdout",
     "output_type": "stream",
     "text": [
      "• maximum values= \n",
      " 4\n",
      " 8\n",
      "[torch.FloatTensor of size 2]\n",
      "\n",
      "• the first indices= \n",
      " 3\n",
      " 1\n",
      "[torch.LongTensor of size 2]\n",
      "\n"
     ]
    }
   ],
   "source": [
    "X = torch.Tensor(\n",
    "    [[1, 2, 2, 4, 4],\n",
    "     [5, 8, 7, 8, 5]])\n",
    "\n",
    "maxs, indices = ...\n",
    "print(\"• maximum values=\", maxs)\n",
    "print(\"• the first indices=\", indices)"
   ]
  },
  {
   "cell_type": "markdown",
   "metadata": {},
   "source": [
    "Q1. Return the minimum value and its location of all elements along the first axis in X, retaining the dimension."
   ]
  },
  {
   "cell_type": "code",
   "execution_count": 4,
   "metadata": {},
   "outputs": [
    {
     "name": "stdout",
     "output_type": "stream",
     "text": [
      "• minimum values= \n",
      " 1  2  2  4  4\n",
      "[torch.FloatTensor of size 1x5]\n",
      "\n",
      "• the first indices= \n",
      " 0  0  0  0  0\n",
      "[torch.LongTensor of size 1x5]\n",
      "\n"
     ]
    }
   ],
   "source": [
    "X = torch.Tensor(\n",
    "    [[1, 2, 2, 4, 4],\n",
    "     [5, 8, 7, 8, 5]])\n",
    "\n",
    "mins, indices = ...\n",
    "print(\"• minimum values=\", mins)\n",
    "print(\"• the first indices=\", indices)"
   ]
  },
  {
   "cell_type": "markdown",
   "metadata": {},
   "source": [
    "Q2. Return the 3 largest elements and their indices along the second dimension."
   ]
  },
  {
   "cell_type": "code",
   "execution_count": 5,
   "metadata": {},
   "outputs": [
    {
     "name": "stdout",
     "output_type": "stream",
     "text": [
      "• the 3 largest values= \n",
      " 4  4  2\n",
      " 8  8  7\n",
      "[torch.FloatTensor of size 2x3]\n",
      "\n",
      "• the first indices= \n",
      " 3  4  1\n",
      " 1  3  2\n",
      "[torch.LongTensor of size 2x3]\n",
      "\n"
     ]
    }
   ],
   "source": [
    "X = torch.Tensor(\n",
    "    [[1, 2, 2, 4, 4],\n",
    "     [5, 8, 7, 8, 5]])\n",
    "\n",
    "top3, indices = ...\n",
    "print(\"• the 3 largest values=\", top3)\n",
    "print(\"• the first indices=\", indices)"
   ]
  },
  {
   "cell_type": "markdown",
   "metadata": {},
   "source": [
    "Q3. Return the 3 smallest elements and their indices along the second dimension."
   ]
  },
  {
   "cell_type": "code",
   "execution_count": 6,
   "metadata": {},
   "outputs": [
    {
     "name": "stdout",
     "output_type": "stream",
     "text": [
      "• the 3 smallest values= \n",
      " 1  2  2\n",
      " 5  5  7\n",
      "[torch.FloatTensor of size 2x3]\n",
      "\n",
      "• the first indices= \n",
      " 0  2  1\n",
      " 4  0  2\n",
      "[torch.LongTensor of size 2x3]\n",
      "\n"
     ]
    }
   ],
   "source": [
    "X = torch.Tensor(\n",
    "    [[1, 2, 2, 4, 4],\n",
    "     [5, 8, 7, 8, 5]])\n",
    "\n",
    "bottom3, indices = ...\n",
    "print(\"• the 3 smallest values=\", bottom3)\n",
    "print(\"• the first indices=\", indices)"
   ]
  },
  {
   "cell_type": "markdown",
   "metadata": {},
   "source": [
    "Q4. Return the 3rd smallest elements of X along the second dimension."
   ]
  },
  {
   "cell_type": "code",
   "execution_count": 7,
   "metadata": {},
   "outputs": [
    {
     "name": "stdout",
     "output_type": "stream",
     "text": [
      "• X= \n",
      "    1     2     2     4     5     6     7     8     9    10\n",
      "   11    12    13    14    11    11    17    18    19    20\n",
      "[torch.FloatTensor of size 2x10]\n",
      "\n",
      "• the 3rd smallest elements= \n",
      "  2\n",
      " 11\n",
      "[torch.FloatTensor of size 2]\n",
      "\n",
      "• indices= \n",
      " 2\n",
      " 0\n",
      "[torch.LongTensor of size 2]\n",
      "\n"
     ]
    }
   ],
   "source": [
    "X = torch.arange(1, 21).resize_(2, 10)\n",
    "X[0, 2:3]=2\n",
    "X[1, 4:6]=11\n",
    "print(\"• X=\", X)\n",
    "\n",
    "values, indices = ...\n",
    "print(\"• the 3rd smallest elements=\", values)\n",
    "print(\"• indices=\", indices)"
   ]
  },
  {
   "cell_type": "markdown",
   "metadata": {},
   "source": [
    "## Averages and variances"
   ]
  },
  {
   "cell_type": "markdown",
   "metadata": {},
   "source": [
    "Q5. Compute the mean of X along the second axis."
   ]
  },
  {
   "cell_type": "code",
   "execution_count": 8,
   "metadata": {},
   "outputs": [
    {
     "name": "stdout",
     "output_type": "stream",
     "text": [
      "• X= \n",
      "    1     2     3     4     5     6     7     8     9    10\n",
      "   11    12    13    14    15    16    17    18    19    20\n",
      "[torch.FloatTensor of size 2x10]\n",
      "\n",
      "• mean= \n",
      "  5.5000\n",
      " 15.5000\n",
      "[torch.FloatTensor of size 2]\n",
      "\n"
     ]
    }
   ],
   "source": [
    "X = torch.arange(1, 21).resize_(2, 10)\n",
    "print(\"• X=\", X)\n",
    "mean = ...\n",
    "print(\"• mean=\", mean)\n"
   ]
  },
  {
   "cell_type": "markdown",
   "metadata": {},
   "source": [
    "Q6. Compute the median of x."
   ]
  },
  {
   "cell_type": "code",
   "execution_count": 9,
   "metadata": {},
   "outputs": [
    {
     "name": "stdout",
     "output_type": "stream",
     "text": [
      "• x= \n",
      " 0\n",
      " 1\n",
      " 2\n",
      " 3\n",
      " 4\n",
      " 5\n",
      " 6\n",
      " 7\n",
      " 8\n",
      " 9\n",
      "[torch.FloatTensor of size 10]\n",
      "\n",
      "• median= 4.0\n"
     ]
    }
   ],
   "source": [
    "x = torch.arange(0,10)\n",
    "print(\"• x=\", x)\n",
    "median = ...\n",
    "print(\"• median=\", median)"
   ]
  },
  {
   "cell_type": "markdown",
   "metadata": {},
   "source": [
    "Q7. Compute the median and its index of X along the second axis."
   ]
  },
  {
   "cell_type": "code",
   "execution_count": 10,
   "metadata": {},
   "outputs": [
    {
     "name": "stdout",
     "output_type": "stream",
     "text": [
      "• X= \n",
      "    1     2     3     4     5     6     7     8     9    10\n",
      "   11    12    13    14    15    16    17    18    19    20\n",
      "[torch.FloatTensor of size 2x10]\n",
      "\n",
      "• medians= \n",
      "  5\n",
      " 15\n",
      "[torch.FloatTensor of size 2]\n",
      "\n",
      "• indices= \n",
      " 4\n",
      " 4\n",
      "[torch.LongTensor of size 2]\n",
      "\n"
     ]
    }
   ],
   "source": [
    "X = torch.arange(1, 21).resize_(2, 10)\n",
    "print(\"• X=\", X)\n",
    "medians, indices = ...\n",
    "print(\"• medians=\", medians)\n",
    "print(\"• indices=\", indices)\n"
   ]
  },
  {
   "cell_type": "markdown",
   "metadata": {},
   "source": [
    "Q8. Compute the mode and its index of X along the second axis."
   ]
  },
  {
   "cell_type": "code",
   "execution_count": 11,
   "metadata": {},
   "outputs": [
    {
     "name": "stdout",
     "output_type": "stream",
     "text": [
      "• modes= \n",
      " 0\n",
      " 1\n",
      "[torch.FloatTensor of size 2]\n",
      "\n",
      "• the last indices= \n",
      " 3\n",
      " 4\n",
      "[torch.LongTensor of size 2]\n",
      "\n"
     ]
    }
   ],
   "source": [
    "X = torch.Tensor([[1,1,0,0,3],\n",
    "                  [3,4,1,1,1]])\n",
    "\n",
    "modes, indices = ...\n",
    "print(\"• modes=\", modes)\n",
    "print(\"• the last indices=\", indices)\n"
   ]
  },
  {
   "cell_type": "markdown",
   "metadata": {},
   "source": [
    "Q9. Compute the variance of X along the second axis without Bessel's correction."
   ]
  },
  {
   "cell_type": "code",
   "execution_count": 22,
   "metadata": {},
   "outputs": [
    {
     "name": "stdout",
     "output_type": "stream",
     "text": [
      "• X= \n",
      "    1     2     3     4     5     6     7     8     9    10\n",
      "   11    12    13    14    15    16    17    18    19    20\n",
      "[torch.FloatTensor of size 2x10]\n",
      "\n",
      "• variances= \n",
      " 8.2500\n",
      " 8.2500\n",
      "[torch.FloatTensor of size 2]\n",
      "\n"
     ]
    }
   ],
   "source": [
    "X = torch.arange(1, 21).resize_(2, 10)\n",
    "print(\"• X=\", X)\n",
    "variances = ...\n",
    "print(\"• variances=\", variances)\n"
   ]
  },
  {
   "cell_type": "markdown",
   "metadata": {},
   "source": [
    "Q10. Compute the std of X along the second axis with Bessel's correction."
   ]
  },
  {
   "cell_type": "code",
   "execution_count": 24,
   "metadata": {},
   "outputs": [
    {
     "name": "stdout",
     "output_type": "stream",
     "text": [
      "• X= \n",
      "    1     2     3     4     5     6     7     8     9    10\n",
      "   11    12    13    14    15    16    17    18    19    20\n",
      "[torch.FloatTensor of size 2x10]\n",
      "\n",
      "• standard deviations= \n",
      " 3.0277\n",
      " 3.0276\n",
      "[torch.FloatTensor of size 2]\n",
      "\n"
     ]
    }
   ],
   "source": [
    "X = torch.arange(1, 21).resize_(2, 10)\n",
    "print(\"• X=\", X)\n",
    "stds = ...\n",
    "print(\"• standard deviations=\", stds)"
   ]
  },
  {
   "cell_type": "code",
   "execution_count": null,
   "metadata": {
    "collapsed": true
   },
   "outputs": [],
   "source": []
  }
 ],
 "metadata": {
  "anaconda-cloud": {},
  "kernelspec": {
   "display_name": "Python 2",
   "language": "python",
   "name": "python2"
  },
  "language_info": {
   "codemirror_mode": {
    "name": "ipython",
    "version": 2
   },
   "file_extension": ".py",
   "mimetype": "text/x-python",
   "name": "python",
   "nbconvert_exporter": "python",
   "pygments_lexer": "ipython2",
   "version": "2.7.12"
  }
 },
 "nbformat": 4,
 "nbformat_minor": 1
}
