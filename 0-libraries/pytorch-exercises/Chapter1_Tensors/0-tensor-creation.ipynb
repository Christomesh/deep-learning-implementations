{
 "cells": [
  {
   "cell_type": "markdown",
   "metadata": {},
   "source": [
    "# Tensor Creation"
   ]
  },
  {
   "cell_type": "code",
   "execution_count": 2,
   "metadata": {},
   "outputs": [],
   "source": [
    "from __future__ import print_function\n",
    "import torch\n",
    "import numpy as np\n",
    "import matplotlib\n",
    "%matplotlib inline\n",
    "import matplotlib.pyplot as plt"
   ]
  },
  {
   "cell_type": "code",
   "execution_count": 3,
   "metadata": {},
   "outputs": [
    {
     "data": {
      "text/plain": [
       "datetime.date(2017, 10, 3)"
      ]
     },
     "execution_count": 3,
     "metadata": {},
     "output_type": "execute_result"
    }
   ],
   "source": [
    "from datetime import date\n",
    "date.today()"
   ]
  },
  {
   "cell_type": "code",
   "execution_count": 4,
   "metadata": {},
   "outputs": [
    {
     "data": {
      "text/plain": [
       "'0.2.0_3'"
      ]
     },
     "execution_count": 4,
     "metadata": {},
     "output_type": "execute_result"
    }
   ],
   "source": [
    "torch.__version__"
   ]
  },
  {
   "cell_type": "code",
   "execution_count": 5,
   "metadata": {},
   "outputs": [
    {
     "data": {
      "text/plain": [
       "'1.13.3'"
      ]
     },
     "execution_count": 5,
     "metadata": {},
     "output_type": "execute_result"
    }
   ],
   "source": [
    "np.__version__"
   ]
  },
  {
   "cell_type": "markdown",
   "metadata": {},
   "source": [
    "NOTE on notation\n",
    "\n",
    "    _x, _y, _z, ...: NumPy 0-d or 1-d arrays\n",
    "    _X, _Y, _Z, ...: NumPy 2-d or higer dimensional arrays\n",
    "    x, y, z, ...: 0-d or 1-d tensors\n",
    "    X, Y, Z, ...: 2-d or higher dimensional tensors\n",
    "\n"
   ]
  },
  {
   "cell_type": "markdown",
   "metadata": {},
   "source": [
    "## From Python list"
   ]
  },
  {
   "cell_type": "markdown",
   "metadata": {},
   "source": [
    "Q1. Convert a python list `a` into an int32 tensor."
   ]
  },
  {
   "cell_type": "code",
   "execution_count": 7,
   "metadata": {},
   "outputs": [
    {
     "name": "stdout",
     "output_type": "stream",
     "text": [
      "\n",
      " 1  2  3\n",
      " 4  5  6\n",
      "[torch.FloatTensor of size 2x3]\n",
      "\n"
     ]
    }
   ],
   "source": [
    "a = [[1, 2, 3], [4, 5, 6]]\n",
    "X = torch.Tensor(a)\n",
    "print(X)"
   ]
  },
  {
   "cell_type": "markdown",
   "metadata": {},
   "source": [
    "Q2. Create a float32 tensor of shape (3, 2), filled with 10."
   ]
  },
  {
   "cell_type": "code",
   "execution_count": 84,
   "metadata": {},
   "outputs": [
    {
     "name": "stdout",
     "output_type": "stream",
     "text": [
      "\n",
      " 10  10\n",
      " 10  10\n",
      " 10  10\n",
      "[torch.FloatTensor of size 3x2]\n",
      "\n"
     ]
    }
   ],
   "source": [
    "X = torch.FloatTensor(3, 2).fill_(10)\n",
    "print(X)"
   ]
  },
  {
   "cell_type": "markdown",
   "metadata": {},
   "source": [
    "## From Numpy Array"
   ]
  },
  {
   "cell_type": "markdown",
   "metadata": {},
   "source": [
    "Q3. Convert a NumPy array _x into a tensor."
   ]
  },
  {
   "cell_type": "code",
   "execution_count": 29,
   "metadata": {},
   "outputs": [
    {
     "name": "stdout",
     "output_type": "stream",
     "text": [
      "\n",
      " 1\n",
      " 2\n",
      " 3\n",
      "[torch.LongTensor of size 3]\n",
      "\n"
     ]
    }
   ],
   "source": [
    "_x = np.array([1, 2, 3])\n",
    "x = torch.from_numpy(_x)\n",
    "print(x)"
   ]
  },
  {
   "cell_type": "markdown",
   "metadata": {},
   "source": [
    "## Ones and zeros"
   ]
  },
  {
   "cell_type": "markdown",
   "metadata": {},
   "source": [
    "Q4. Create a 3-by-3 2-D tensor with ones on the diagonal and zeros elsewhere."
   ]
  },
  {
   "cell_type": "code",
   "execution_count": 86,
   "metadata": {},
   "outputs": [
    {
     "name": "stdout",
     "output_type": "stream",
     "text": [
      "\n",
      " 1  0  0\n",
      " 0  1  0\n",
      " 0  0  1\n",
      "[torch.FloatTensor of size 3x3]\n",
      "\n"
     ]
    }
   ],
   "source": [
    "X = torch.eye(3)\n",
    "print(X)\n"
   ]
  },
  {
   "cell_type": "markdown",
   "metadata": {},
   "source": [
    "Q5. Create a tensor with shape of (3, 2) filled with 1's."
   ]
  },
  {
   "cell_type": "code",
   "execution_count": 43,
   "metadata": {},
   "outputs": [
    {
     "name": "stdout",
     "output_type": "stream",
     "text": [
      "\n",
      " 1  1\n",
      " 1  1\n",
      " 1  1\n",
      "[torch.FloatTensor of size 3x2]\n",
      "\n"
     ]
    }
   ],
   "source": [
    "X = torch.ones(3, 2)\n",
    "print(X)\n"
   ]
  },
  {
   "cell_type": "markdown",
   "metadata": {},
   "source": [
    "Q6. Create a tensor with shape of (3, 2) filled with 0's."
   ]
  },
  {
   "cell_type": "code",
   "execution_count": 44,
   "metadata": {},
   "outputs": [
    {
     "name": "stdout",
     "output_type": "stream",
     "text": [
      "\n",
      " 0  0\n",
      " 0  0\n",
      " 0  0\n",
      "[torch.FloatTensor of size 3x2]\n",
      "\n"
     ]
    }
   ],
   "source": [
    "X = torch.zeros(3, 2)\n",
    "print(X)\n"
   ]
  },
  {
   "cell_type": "markdown",
   "metadata": {},
   "source": [
    "## Numerical ranges"
   ]
  },
  {
   "cell_type": "markdown",
   "metadata": {},
   "source": [
    "Q7. Create a 1D tensor which looks like 2, 4, 6, 8, ..., 100."
   ]
  },
  {
   "cell_type": "code",
   "execution_count": 45,
   "metadata": {},
   "outputs": [
    {
     "name": "stdout",
     "output_type": "stream",
     "text": [
      "\n",
      "   2\n",
      "   4\n",
      "   6\n",
      "   8\n",
      "  10\n",
      "  12\n",
      "  14\n",
      "  16\n",
      "  18\n",
      "  20\n",
      "  22\n",
      "  24\n",
      "  26\n",
      "  28\n",
      "  30\n",
      "  32\n",
      "  34\n",
      "  36\n",
      "  38\n",
      "  40\n",
      "  42\n",
      "  44\n",
      "  46\n",
      "  48\n",
      "  50\n",
      "  52\n",
      "  54\n",
      "  56\n",
      "  58\n",
      "  60\n",
      "  62\n",
      "  64\n",
      "  66\n",
      "  68\n",
      "  70\n",
      "  72\n",
      "  74\n",
      "  76\n",
      "  78\n",
      "  80\n",
      "  82\n",
      "  84\n",
      "  86\n",
      "  88\n",
      "  90\n",
      "  92\n",
      "  94\n",
      "  96\n",
      "  98\n",
      " 100\n",
      "[torch.FloatTensor of size 50]\n",
      "\n"
     ]
    }
   ],
   "source": [
    "x = torch.arange(2, 101, 2)\n",
    "print(x)\n"
   ]
  },
  {
   "cell_type": "markdown",
   "metadata": {},
   "source": [
    "Q8. Create a 1D tensor of 50 evenly spaced elements between 3. and 10., inclusive."
   ]
  },
  {
   "cell_type": "code",
   "execution_count": 48,
   "metadata": {},
   "outputs": [
    {
     "name": "stdout",
     "output_type": "stream",
     "text": [
      "\n",
      "  3.0000\n",
      "  3.1429\n",
      "  3.2857\n",
      "  3.4286\n",
      "  3.5714\n",
      "  3.7143\n",
      "  3.8571\n",
      "  4.0000\n",
      "  4.1429\n",
      "  4.2857\n",
      "  4.4286\n",
      "  4.5714\n",
      "  4.7143\n",
      "  4.8571\n",
      "  5.0000\n",
      "  5.1429\n",
      "  5.2857\n",
      "  5.4286\n",
      "  5.5714\n",
      "  5.7143\n",
      "  5.8571\n",
      "  6.0000\n",
      "  6.1429\n",
      "  6.2857\n",
      "  6.4286\n",
      "  6.5714\n",
      "  6.7143\n",
      "  6.8571\n",
      "  7.0000\n",
      "  7.1429\n",
      "  7.2857\n",
      "  7.4286\n",
      "  7.5714\n",
      "  7.7143\n",
      "  7.8571\n",
      "  8.0000\n",
      "  8.1429\n",
      "  8.2857\n",
      "  8.4286\n",
      "  8.5714\n",
      "  8.7143\n",
      "  8.8571\n",
      "  9.0000\n",
      "  9.1429\n",
      "  9.2857\n",
      "  9.4286\n",
      "  9.5714\n",
      "  9.7143\n",
      "  9.8571\n",
      " 10.0000\n",
      "[torch.FloatTensor of size 50]\n",
      "\n"
     ]
    }
   ],
   "source": [
    "x = torch.linspace(3, 10, 50)\n",
    "print(x)\n"
   ]
  },
  {
   "cell_type": "markdown",
   "metadata": {},
   "source": [
    "Q9. Create a 1-D tensor of 50 element spaced evenly on a log scale between 3. and 10."
   ]
  },
  {
   "cell_type": "code",
   "execution_count": 103,
   "metadata": {},
   "outputs": [],
   "source": [
    "# x = torch.logspace(3, 10, 50)\n",
    "# # ??plt.scatter\n",
    "\n",
    "# _x = x.numpy()\n",
    "# sizes = np.arange(0, 50, 5)\n",
    "# # for i in range(0, 50):\n",
    "\n",
    "# from matplotlib import animation\n",
    "\n",
    "# import numpy as np\n",
    "# import matplotlib.pyplot as plt\n",
    "# from matplotlib.animation import FuncAnimation\n",
    "\n",
    "# fig, ax = plt.subplots()\n",
    "# xdata, ydata = [], []\n",
    "# ln, = plt.plot([], [], 'ro', animated=True)\n",
    "\n",
    "# def init():\n",
    "#     ax.set_xlim(0, 10)\n",
    "#     ax.set_ylim(10)\n",
    "#     return ln,\n",
    "\n",
    "# def update(frame):\n",
    "#     sizes = np.roll(sizes, 1)\n",
    "#     plt.scatter(range(len(_x)), _x, s=sizes, c=np.random.rand(25, 3), cmap='terrain')\n",
    "#     #     xdata.append(frame)\n",
    "#     #     ydata.append(np.sin(frame))\n",
    "#     #     ln.set_data(xdata, ydata)\n",
    "#     #     return ln,\n",
    "\n",
    "# ani = FuncAnimation(fig, update, frames=np.linspace(0, 2*np.pi, 128),\n",
    "#                     init_func=init, blit=True)\n",
    "# plt.show()"
   ]
  },
  {
   "cell_type": "markdown",
   "metadata": {},
   "source": [
    "## Matrix"
   ]
  },
  {
   "cell_type": "markdown",
   "metadata": {},
   "source": [
    "Q10. Get the diagonal of X."
   ]
  },
  {
   "cell_type": "code",
   "execution_count": 79,
   "metadata": {},
   "outputs": [
    {
     "name": "stdout",
     "output_type": "stream",
     "text": [
      "\n",
      "  0\n",
      "  5\n",
      " 10\n",
      "[torch.FloatTensor of size 3]\n",
      "\n"
     ]
    }
   ],
   "source": [
    "X = torch.Tensor([[ 0, 1, 2, 3], [ 4, 5, 6, 7], [ 8, 9, 10, 11]])\n",
    "y = X.diag()\n",
    "print(y)\n"
   ]
  },
  {
   "cell_type": "markdown",
   "metadata": {},
   "source": [
    "Q11. Get the 1th diagonal of X."
   ]
  },
  {
   "cell_type": "code",
   "execution_count": 80,
   "metadata": {},
   "outputs": [
    {
     "name": "stdout",
     "output_type": "stream",
     "text": [
      "\n",
      "  1\n",
      "  6\n",
      " 11\n",
      "[torch.FloatTensor of size 3]\n",
      "\n"
     ]
    }
   ],
   "source": [
    "X = torch.Tensor([[ 0, 1, 2, 3], [ 4, 5, 6, 7], [ 8, 9, 10, 11]])\n",
    "y = X.diag(1)\n",
    "print(y)\n"
   ]
  },
  {
   "cell_type": "markdown",
   "metadata": {},
   "source": [
    "Q12. Get the sum of the elements of the diagonal of X."
   ]
  },
  {
   "cell_type": "code",
   "execution_count": 81,
   "metadata": {},
   "outputs": [
    {
     "name": "stdout",
     "output_type": "stream",
     "text": [
      "15.0\n"
     ]
    }
   ],
   "source": [
    "X = torch.Tensor([[ 0, 1, 2, 3], [ 4, 5, 6, 7], [ 8, 9, 10, 11]])\n",
    "y = X.trace()\n",
    "print(y)\n"
   ]
  },
  {
   "cell_type": "markdown",
   "metadata": {},
   "source": [
    "Q13. Return the lower triangular part of X, the other elements are set to 0."
   ]
  },
  {
   "cell_type": "code",
   "execution_count": 82,
   "metadata": {},
   "outputs": [
    {
     "name": "stdout",
     "output_type": "stream",
     "text": [
      "\n",
      " 1  0  0\n",
      " 4  5  0\n",
      " 7  8  9\n",
      "[torch.FloatTensor of size 3x3]\n",
      "\n"
     ]
    }
   ],
   "source": [
    "X = torch.Tensor([[1,2,3], [4,5,6], [7,8,9]])\n",
    "Y = X.tril()\n",
    "print(Y)\n"
   ]
  },
  {
   "cell_type": "markdown",
   "metadata": {},
   "source": [
    "Q14. Return the upper triangular part of X, the other elements are set to 0."
   ]
  },
  {
   "cell_type": "code",
   "execution_count": 83,
   "metadata": {},
   "outputs": [
    {
     "name": "stdout",
     "output_type": "stream",
     "text": [
      "\n",
      " 1  2  3\n",
      " 0  5  6\n",
      " 0  0  9\n",
      "[torch.FloatTensor of size 3x3]\n",
      "\n"
     ]
    }
   ],
   "source": [
    "X = torch.Tensor([[1,2,3], [4,5,6], [7,8,9]])\n",
    "Y = X.triu()\n",
    "print(Y)\n"
   ]
  },
  {
   "cell_type": "markdown",
   "metadata": {},
   "source": [
    "## Save and Load"
   ]
  },
  {
   "cell_type": "markdown",
   "metadata": {},
   "source": [
    "Q15. Save X to `temp.pt`."
   ]
  },
  {
   "cell_type": "code",
   "execution_count": 104,
   "metadata": {},
   "outputs": [],
   "source": [
    "X = torch.randn(1, 10)\n",
    "torch.save(X, 'temp.pt')"
   ]
  },
  {
   "cell_type": "markdown",
   "metadata": {},
   "source": [
    "Q16. Load the `temp.pt` you just saved."
   ]
  },
  {
   "cell_type": "code",
   "execution_count": 105,
   "metadata": {},
   "outputs": [
    {
     "name": "stdout",
     "output_type": "stream",
     "text": [
      "\n",
      " 1.2837 -0.7541 -0.2098 -0.2020 -1.0134 -0.3008  0.9400 -0.3498 -0.3875  0.3769\n",
      "[torch.FloatTensor of size 1x10]\n",
      "\n"
     ]
    }
   ],
   "source": [
    "X2 = torch.load('temp.pt')\n",
    "print(X2)"
   ]
  },
  {
   "cell_type": "markdown",
   "metadata": {},
   "source": [
    "Q17. Print X2 such that all elements are displayed with precision=1 (without actually changing the values of X2)."
   ]
  },
  {
   "cell_type": "code",
   "execution_count": 106,
   "metadata": {},
   "outputs": [
    {
     "name": "stdout",
     "output_type": "stream",
     "text": [
      "\n",
      "    1.3    -0.8    -0.2    -0.2    -1.0    -0.3     0.9    -0.3    -0.4     0.4\n",
      "[torch.FloatTensor of size 1x10]\n",
      "\n"
     ]
    }
   ],
   "source": [
    "torch.set_printoptions(precision=1)\n",
    "print(X2)\n"
   ]
  },
  {
   "cell_type": "code",
   "execution_count": null,
   "metadata": {},
   "outputs": [],
   "source": []
  }
 ],
 "metadata": {
  "kernelspec": {
   "display_name": "Python 3",
   "language": "python",
   "name": "python3"
  },
  "language_info": {
   "codemirror_mode": {
    "name": "ipython",
    "version": 3
   },
   "file_extension": ".py",
   "mimetype": "text/x-python",
   "name": "python",
   "nbconvert_exporter": "python",
   "pygments_lexer": "ipython3",
   "version": "3.6.2"
  }
 },
 "nbformat": 4,
 "nbformat_minor": 1
}
