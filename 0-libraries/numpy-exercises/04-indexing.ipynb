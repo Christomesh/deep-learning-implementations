{
 "cells": [
  {
   "cell_type": "code",
   "execution_count": 1,
   "metadata": {},
   "outputs": [],
   "source": [
    "import numpy as np"
   ]
  },
  {
   "cell_type": "markdown",
   "metadata": {},
   "source": [
    "10) Find indices of non-zero elements from [1,2,0,0,4,0] (★☆☆)"
   ]
  },
  {
   "cell_type": "code",
   "execution_count": 2,
   "metadata": {},
   "outputs": [
    {
     "data": {
      "text/plain": [
       "(array([0, 1, 4]),)"
      ]
     },
     "execution_count": 2,
     "metadata": {},
     "output_type": "execute_result"
    }
   ],
   "source": [
    "np.nonzero([1, 2, 0, 0, 4, 0])"
   ]
  },
  {
   "cell_type": "markdown",
   "metadata": {},
   "source": [
    "### Simple checkerboard\n",
    "Draw a checkerboard matrix (0 = white, 1 = black).  # indexing"
   ]
  },
  {
   "cell_type": "code",
   "execution_count": 241,
   "metadata": {},
   "outputs": [
    {
     "name": "stdout",
     "output_type": "stream",
     "text": [
      "[[1 0 1 0 1 0 1 0]\n",
      " [0 1 0 1 0 1 0 1]\n",
      " [1 0 1 0 1 0 1 0]\n",
      " [0 1 0 1 0 1 0 1]\n",
      " [1 0 1 0 1 0 1 0]\n",
      " [0 1 0 1 0 1 0 1]\n",
      " [1 0 1 0 1 0 1 0]\n",
      " [0 1 0 1 0 1 0 1]]\n"
     ]
    },
    {
     "data": {
      "image/png": "[encoded data removed]",
      "text/plain": [
       "<matplotlib.figure.Figure at 0x10feccd30>"
      ]
     },
     "metadata": {},
     "output_type": "display_data"
    }
   ],
   "source": [
    "x = np.zeros((8, 8), int)\n",
    "x[::2,::2] = 1\n",
    "# x[1::2, 1::2] = 1  # YES!\n",
    "x[::-2, ::-2] = 1  # boss\n",
    "# x[odd_indexes, odd_indexes] = 4   # surprising - this only sets pairs of elements.\n",
    "print(x)\n",
    "\n",
    "import matplotlib.pyplot as plt\n",
    "\n",
    "plt.imshow(x, cmap='bone')\n",
    "plt.show()"
   ]
  },
  {
   "cell_type": "code",
   "execution_count": 262,
   "metadata": {},
   "outputs": [
    {
     "data": {
      "image/png": "[encoded data removed]",
      "text/plain": [
       "<matplotlib.figure.Figure at 0x1106e9748>"
      ]
     },
     "metadata": {},
     "output_type": "display_data"
    }
   ],
   "source": [
    "x = np.random.random((3, 4))\n",
    "plt.imshow(x, cmap='bone')\n",
    "plt.show()"
   ]
  },
  {
   "cell_type": "markdown",
   "metadata": {},
   "source": [
    "Select top half of each matrix at all depths, resulting in 5x2x2"
   ]
  },
  {
   "cell_type": "code",
   "execution_count": 231,
   "metadata": {},
   "outputs": [
    {
     "name": "stdout",
     "output_type": "stream",
     "text": [
      "[[[ 0  1]\n",
      "  [ 2  3]\n",
      "  [ 4  5]\n",
      "  [ 6  7]]\n",
      "\n",
      " [[ 8  9]\n",
      "  [10 11]\n",
      "  [12 13]\n",
      "  [14 15]]\n",
      "\n",
      " [[16 17]\n",
      "  [18 19]\n",
      "  [20 21]\n",
      "  [22 23]]]\n",
      "[[[ 0  1]\n",
      "  [ 2  3]]\n",
      "\n",
      " [[ 8  9]\n",
      "  [10 11]]\n",
      "\n",
      " [[16 17]\n",
      "  [18 19]]]\n"
     ]
    }
   ],
   "source": [
    "y = np.arange(24).reshape(3,4,2)\n",
    "print(y)\n",
    "print(y[..., :2, :2])"
   ]
  },
  {
   "cell_type": "code",
   "execution_count": 228,
   "metadata": {},
   "outputs": [
    {
     "name": "stdout",
     "output_type": "stream",
     "text": [
      "11\n",
      "[[[ 8  9]\n",
      "  [10 11]\n",
      "  [12 13]\n",
      "  [14 15]]\n",
      "\n",
      " [[ 8  9]\n",
      "  [10 11]\n",
      "  [12 13]\n",
      "  [14 15]]\n",
      "\n",
      " [[ 8  9]\n",
      "  [10 11]\n",
      "  [12 13]\n",
      "  [14 15]]]\n"
     ]
    }
   ],
   "source": [
    "y = np.arange(24).reshape(3,4,2)\n",
    "print(y[(1, 1, 1)])\n",
    "print(y[[1, 1, 1]])"
   ]
  },
  {
   "cell_type": "markdown",
   "metadata": {},
   "source": [
    "Create a 2x2x2 tensor out of just the matrix at depth 2."
   ]
  },
  {
   "cell_type": "code",
   "execution_count": 178,
   "metadata": {},
   "outputs": [
    {
     "name": "stdout",
     "output_type": "stream",
     "text": [
      "[[[ 0  1]\n",
      "  [ 2  3]\n",
      "  [ 4  5]\n",
      "  [ 6  7]]\n",
      "\n",
      " [[ 8  9]\n",
      "  [10 11]\n",
      "  [12 13]\n",
      "  [14 15]]\n",
      "\n",
      " [[16 17]\n",
      "  [18 19]\n",
      "  [20 21]\n",
      "  [22 23]]]\n",
      "[[10 11]\n",
      " [12 13]]\n"
     ]
    }
   ],
   "source": [
    "y = np.arange(24).reshape(3,4,2)\n",
    "print(y)\n",
    "print(y[1, 1:3, 0:2])"
   ]
  },
  {
   "cell_type": "markdown",
   "metadata": {},
   "source": [
    "Pluck the interior 2x2x2 matrix out of a 4x4x4 cube."
   ]
  },
  {
   "cell_type": "code",
   "execution_count": 180,
   "metadata": {},
   "outputs": [
    {
     "name": "stdout",
     "output_type": "stream",
     "text": [
      "[[[ 0  1  2  3]\n",
      "  [ 4  5  6  7]\n",
      "  [ 8  9 10 11]\n",
      "  [12 13 14 15]]\n",
      "\n",
      " [[16 17 18 19]\n",
      "  [20 21 22 23]\n",
      "  [24 25 26 27]\n",
      "  [28 29 30 31]]\n",
      "\n",
      " [[32 33 34 35]\n",
      "  [36 37 38 39]\n",
      "  [40 41 42 43]\n",
      "  [44 45 46 47]]\n",
      "\n",
      " [[48 49 50 51]\n",
      "  [52 53 54 55]\n",
      "  [56 57 58 59]\n",
      "  [60 61 62 63]]]\n",
      "[[[21 22]\n",
      "  [25 26]]\n",
      "\n",
      " [[37 38]\n",
      "  [41 42]]]\n"
     ]
    }
   ],
   "source": [
    "x = np.arange(64).reshape((4, 4, 4))\n",
    "print(x)\n",
    "print(x[1:3, 1:3, 1:3])"
   ]
  },
  {
   "cell_type": "code",
   "execution_count": 101,
   "metadata": {
    "scrolled": true
   },
   "outputs": [
    {
     "data": {
      "text/plain": [
       "array([[ 0,  0,  2,  3,  0,  5,  6],\n",
       "       [ 0,  0,  9, 10, 11, 12, 13],\n",
       "       [14, 15, 16, 17, 18, 19, 20],\n",
       "       [21, 22, 23, 24, 25, 26, 27],\n",
       "       [ 0, 29, 30, 31,  0, 33, 34]])"
      ]
     },
     "execution_count": 101,
     "metadata": {},
     "output_type": "execute_result"
    }
   ],
   "source": [
    "y[0:8:4, 0:8:4] = 0\n",
    "y"
   ]
  },
  {
   "cell_type": "markdown",
   "metadata": {},
   "source": [
    "### WIP: using ix_ to select fancy shapes\n",
    "Select odd indexes in 2 dimensions"
   ]
  },
  {
   "cell_type": "code",
   "execution_count": 222,
   "metadata": {
    "scrolled": true
   },
   "outputs": [
    {
     "name": "stdout",
     "output_type": "stream",
     "text": [
      "(array([[0],\n",
      "       [1],\n",
      "       [2]]), array([[0, 1, 2]]))\n"
     ]
    },
    {
     "data": {
      "text/plain": [
       "array([[[ 0,  1,  2,  3],\n",
       "        [ 4,  5,  6,  7],\n",
       "        [ 8,  9, 10, 11]],\n",
       "\n",
       "       [[16, 17, 18, 19],\n",
       "        [20, 21, 22, 23],\n",
       "        [24, 25, 26, 27]],\n",
       "\n",
       "       [[32, 33, 34, 35],\n",
       "        [36, 37, 38, 39],\n",
       "        [40, 41, 42, 43]]])"
      ]
     },
     "execution_count": 222,
     "metadata": {},
     "output_type": "execute_result"
    }
   ],
   "source": [
    "slight_left_indexes = np.ix_([0, 1, 2], [0, 1, 2])\n",
    "print(slight_left_indexes)\n",
    "x = np.arange(48).reshape((3, 4, 4))\n",
    "x[slight_left_indexes]"
   ]
  },
  {
   "cell_type": "markdown",
   "metadata": {},
   "source": [
    "### WIP: Boolean indexing\n",
    "Select odd indexes in 2 dimensions"
   ]
  },
  {
   "cell_type": "code",
   "execution_count": 224,
   "metadata": {},
   "outputs": [
    {
     "name": "stdout",
     "output_type": "stream",
     "text": [
      "[[[0 0]\n",
      "  [1 1]\n",
      "  [2 2]\n",
      "  [3 3]]\n",
      "\n",
      " [[0 1]\n",
      "  [0 1]\n",
      "  [0 1]\n",
      "  [0 1]]]\n",
      "[[[ True False  True False]\n",
      "  [ True False  True False]\n",
      "  [ True False  True False]\n",
      "  [ True False  True False]]\n",
      "\n",
      " [[ True False  True False]\n",
      "  [ True False  True False]\n",
      "  [ True False  True False]\n",
      "  [ True False  True False]]\n",
      "\n",
      " [[ True False  True False]\n",
      "  [ True False  True False]\n",
      "  [ True False  True False]\n",
      "  [ True False  True False]]]\n",
      "[[[False  True False  True]\n",
      "  [False  True False  True]\n",
      "  [False  True False  True]\n",
      "  [False  True False  True]]\n",
      "\n",
      " [[False  True False  True]\n",
      "  [False  True False  True]\n",
      "  [False  True False  True]\n",
      "  [False  True False  True]]\n",
      "\n",
      " [[False  True False  True]\n",
      "  [False  True False  True]\n",
      "  [False  True False  True]\n",
      "  [False  True False  True]]]\n"
     ]
    }
   ],
   "source": [
    "indices = np.indices((4,2))\n",
    "print(indices)\n",
    "evens = x % 2 == 0\n",
    "odds = (x + 1) % 2 == 0\n",
    "print(evens)\n",
    "print(odds)"
   ]
  },
  {
   "cell_type": "markdown",
   "metadata": {},
   "source": [
    "### WIP: Draw a checkerboard matrix\n",
    "...but every square is 2x2!"
   ]
  },
  {
   "cell_type": "code",
   "execution_count": 53,
   "metadata": {},
   "outputs": [
    {
     "name": "stdout",
     "output_type": "stream",
     "text": [
      "[[0 0 1 1 0 0 1 1 0 0 1 1 0 0 1 1]\n",
      " [0 0 1 1 0 0 1 1 0 0 1 1 0 0 1 1]\n",
      " [0 0 0 0 0 0 1 1 0 0 1 1 0 0 1 1]\n",
      " [0 0 0 0 0 0 1 1 0 0 1 1 0 0 1 1]\n",
      " [0 0 1 1 0 0 1 1 0 0 1 1 0 0 1 1]\n",
      " [0 0 1 1 0 0 1 1 0 0 1 1 0 0 1 1]\n",
      " [0 0 0 0 0 0 0 0 0 0 1 1 0 0 1 1]\n",
      " [0 0 0 0 0 0 0 0 0 0 1 1 0 0 1 1]\n",
      " [0 0 1 1 0 0 1 1 0 0 1 1 0 0 1 1]\n",
      " [0 0 1 1 0 0 1 1 0 0 1 1 0 0 1 1]\n",
      " [0 0 0 0 0 0 0 0 0 0 0 0 0 0 1 1]\n",
      " [0 0 0 0 0 0 0 0 0 0 0 0 0 0 1 1]\n",
      " [0 0 1 1 0 0 1 1 0 0 1 1 0 0 1 1]\n",
      " [0 0 1 1 0 0 1 1 0 0 1 1 0 0 1 1]\n",
      " [0 0 0 0 0 0 0 0 0 0 0 0 0 0 0 0]\n",
      " [0 0 0 0 0 0 0 0 0 0 0 0 0 0 0 0]]\n",
      "[[1 1 0 0 1 1 0 0 1 1 0 0 1 1 0 0]\n",
      " [1 1 0 0 1 1 0 0 1 1 0 0 1 1 0 0]\n",
      " [1 1 0 0 1 1 0 0 1 1 0 0 1 1 0 0]\n",
      " [1 1 0 0 1 1 0 0 1 1 0 0 1 1 0 0]\n",
      " [1 1 0 0 1 1 0 0 1 1 0 0 1 1 0 0]\n",
      " [1 1 0 0 1 1 0 0 1 1 0 0 1 1 0 0]\n",
      " [1 1 0 0 1 1 0 0 1 1 0 0 1 1 0 0]\n",
      " [1 1 0 0 1 1 0 0 1 1 0 0 1 1 0 0]\n",
      " [1 1 0 0 1 1 0 0 1 1 0 0 1 1 0 0]\n",
      " [1 1 0 0 1 1 0 0 1 1 0 0 1 1 0 0]\n",
      " [1 1 0 0 1 1 0 0 1 1 0 0 1 1 0 0]\n",
      " [1 1 0 0 1 1 0 0 1 1 0 0 1 1 0 0]\n",
      " [1 1 0 0 1 1 0 0 1 1 0 0 1 1 0 0]\n",
      " [1 1 0 0 1 1 0 0 1 1 0 0 1 1 0 0]\n",
      " [1 1 0 0 1 1 0 0 1 1 0 0 1 1 0 0]\n",
      " [1 1 0 0 1 1 0 0 1 1 0 0 1 1 0 0]]\n"
     ]
    }
   ],
   "source": [
    "x = np.zeros((16, 16), int)\n",
    "y = np.zeros((16, 16), int)\n",
    "for col in np.arange(1, 8, 2):\n",
    "    x[:, 2*col:2*col+2] = 1\n",
    "    x[2*col:2*col+2] = 0\n",
    "for col in np.arange(0, 8, 2):\n",
    "    y[:, 2*col:2*col+2] = 1\n",
    "print(x)\n",
    "print(y)"
   ]
  },
  {
   "cell_type": "code",
   "execution_count": 225,
   "metadata": {},
   "outputs": [
    {
     "name": "stdout",
     "output_type": "stream",
     "text": [
      "[0 1 4 5]\n"
     ]
    },
    {
     "data": {
      "text/plain": [
       "array([[ 1,  1,  2,  3,  1,  1,  6,  7],\n",
       "       [ 1,  1, 10, 11,  1,  1, 14, 15],\n",
       "       [ 1,  1, 18, 19,  1,  1, 22, 23],\n",
       "       [ 1,  1, 26, 27,  1,  1, 30, 31],\n",
       "       [ 1,  1, 34, 35,  1,  1, 38, 39]])"
      ]
     },
     "execution_count": 225,
     "metadata": {},
     "output_type": "execute_result"
    }
   ],
   "source": [
    "y = np.arange(40).reshape(5,8);\n",
    "indexes = np.arange(8)\n",
    "checkerboard_indexes_a = indexes[::4]\n",
    "checkerboard_indexes_b = np.roll(indexes, -1)[::4]\n",
    "x = np.array([checkerboard_indexes_a, checkerboard_indexes_b]).reshape((-1), order=\"F\")\n",
    "print(x)\n",
    "y[:, x] = 1\n",
    "y"
   ]
  },
  {
   "cell_type": "markdown",
   "metadata": {},
   "source": [
    "57) How to randomly place p elements in a 2D array? (★★☆)\n",
    "\n",
    "Author: Divakar"
   ]
  },
  {
   "cell_type": "code",
   "execution_count": 5,
   "metadata": {},
   "outputs": [],
   "source": [
    "np.zeros((4, 5))\n",
    "??np.put"
   ]
  },
  {
   "cell_type": "markdown",
   "metadata": {},
   "source": [
    "55) What is the equivalent of enumerate for numpy arrays? (★★☆)"
   ]
  },
  {
   "cell_type": "code",
   "execution_count": 59,
   "metadata": {},
   "outputs": [
    {
     "name": "stdout",
     "output_type": "stream",
     "text": [
      "(0, 0, 0) 0\n",
      "(0, 0, 1) 1\n",
      "(0, 0, 2) 2\n",
      "(0, 1, 0) 3\n",
      "(0, 1, 1) 4\n",
      "(0, 1, 2) 5\n",
      "(1, 0, 0) 6\n",
      "(1, 0, 1) 7\n",
      "(1, 0, 2) 8\n",
      "(1, 1, 0) 9\n",
      "(1, 1, 1) 10\n",
      "(1, 1, 2) 11\n"
     ]
    }
   ],
   "source": [
    "for index, value in np.ndenumerate(np.arange(12).reshape((2, 2, 3))):\n",
    "    print(index, value)\n",
    "??np.ndenumerate"
   ]
  },
  {
   "cell_type": "code",
   "execution_count": 15,
   "metadata": {},
   "outputs": [
    {
     "name": "stdout",
     "output_type": "stream",
     "text": [
      "[[ 0.  0.  0.  0.  0.  0.  0.  0.  0.  0.]\n",
      " [ 0.  0.  0.  0.  0.  0.  0.  0.  0.  0.]\n",
      " [ 0.  0.  0.  0.  1.  0.  0.  0.  0.  0.]\n",
      " [ 0.  0.  0.  0.  0.  0.  0.  0.  0.  0.]\n",
      " [ 0.  0.  0.  0.  0.  0.  0.  0.  0.  0.]\n",
      " [ 0.  0.  0.  0.  0.  0.  0.  0.  0.  0.]\n",
      " [ 0.  0.  0.  0.  0.  1.  0.  0.  0.  0.]\n",
      " [ 0.  0.  0.  0.  0.  1.  0.  0.  0.  0.]\n",
      " [ 0.  0.  0.  0.  0.  0.  0.  0.  0.  0.]\n",
      " [ 0.  0.  0.  0.  0.  0.  0.  0.  0.  0.]]\n"
     ]
    }
   ],
   "source": []
  },
  {
   "cell_type": "markdown",
   "metadata": {},
   "source": [
    "62) Considering two arrays with shape (1,3) and (3,1), how to compute their sum using an iterator? (★★☆)"
   ]
  },
  {
   "cell_type": "code",
   "execution_count": 17,
   "metadata": {},
   "outputs": [
    {
     "name": "stdout",
     "output_type": "stream",
     "text": [
      "[[0 1 2]\n",
      " [1 2 3]\n",
      " [2 3 4]]\n"
     ]
    }
   ],
   "source": []
  },
  {
   "cell_type": "markdown",
   "metadata": {},
   "source": [
    "93) Consider two arrays A and B of shape (8,3) and (2,2). How to find rows of A that contain elements of each row of B regardless of the order of the elements in B? (★★★)\n",
    "\n",
    "Author: Gabe Schwartz"
   ]
  },
  {
   "cell_type": "code",
   "execution_count": 4,
   "metadata": {},
   "outputs": [
    {
     "name": "stdout",
     "output_type": "stream",
     "text": [
      "[1]\n"
     ]
    }
   ],
   "source": []
  },
  {
   "cell_type": "markdown",
   "metadata": {},
   "source": [
    "90) Given an arbitrary number of vectors, build the cartesian product (every combinations of every item) (★★★)\n",
    "\n",
    "Author: Stefan Van der Walt"
   ]
  },
  {
   "cell_type": "code",
   "execution_count": 7,
   "metadata": {},
   "outputs": [
    {
     "name": "stdout",
     "output_type": "stream",
     "text": [
      "[[1 4 6]\n",
      " [1 4 7]\n",
      " [1 5 6]\n",
      " [1 5 7]\n",
      " [2 4 6]\n",
      " [2 4 7]\n",
      " [2 5 6]\n",
      " [2 5 7]\n",
      " [3 4 6]\n",
      " [3 4 7]\n",
      " [3 5 6]\n",
      " [3 5 7]]\n"
     ]
    }
   ],
   "source": []
  },
  {
   "cell_type": "markdown",
   "metadata": {},
   "source": [
    "20) Consider a (6,7,8) shape array, what is the index (x,y,z) of the 100th element?"
   ]
  },
  {
   "cell_type": "code",
   "execution_count": 9,
   "metadata": {},
   "outputs": [
    {
     "name": "stdout",
     "output_type": "stream",
     "text": [
      "(1, 5, 4)\n"
     ]
    }
   ],
   "source": []
  },
  {
   "cell_type": "markdown",
   "metadata": {},
   "source": [
    "81) Consider an array Z = [1,2,3,4,5,6,7,8,9,10,11,12,13,14], how to generate an array R = [[1,2,3,4], [2,3,4,5], [3,4,5,6], ..., [11,12,13,14]]? (★★★)\n",
    "\n",
    "Author: Stefan van der Walt"
   ]
  },
  {
   "cell_type": "code",
   "execution_count": 13,
   "metadata": {},
   "outputs": [
    {
     "name": "stdout",
     "output_type": "stream",
     "text": [
      "[[ 1  2  3  4]\n",
      " [ 2  3  4  5]\n",
      " [ 3  4  5  6]\n",
      " [ 4  5  6  7]\n",
      " [ 5  6  7  8]\n",
      " [ 6  7  8  9]\n",
      " [ 7  8  9 10]\n",
      " [ 8  9 10 11]\n",
      " [ 9 10 11 12]\n",
      " [10 11 12 13]\n",
      " [11 12 13 14]]\n"
     ]
    }
   ],
   "source": []
  },
  {
   "cell_type": "markdown",
   "metadata": {},
   "source": [
    "84) Extract all the contiguous 3x3 blocks from a random 10x10 matrix (★★★)\n",
    "\n",
    "Author: Chris Barker"
   ]
  },
  {
   "cell_type": "code",
   "execution_count": 12,
   "metadata": {},
   "outputs": [
    {
     "name": "stdout",
     "output_type": "stream",
     "text": [
      "[[[[1 2 2]\n",
      "   [3 2 4]\n",
      "   [4 3 1]]\n",
      "\n",
      "  [[2 2 2]\n",
      "   [2 4 3]\n",
      "   [3 1 0]]\n",
      "\n",
      "  [[2 2 3]\n",
      "   [4 3 4]\n",
      "   [1 0 2]]\n",
      "\n",
      "  [[2 3 4]\n",
      "   [3 4 2]\n",
      "   [0 2 0]]\n",
      "\n",
      "  [[3 4 0]\n",
      "   [4 2 3]\n",
      "   [2 0 2]]\n",
      "\n",
      "  [[4 0 1]\n",
      "   [2 3 2]\n",
      "   [0 2 2]]\n",
      "\n",
      "  [[0 1 3]\n",
      "   [3 2 2]\n",
      "   [2 2 1]]\n",
      "\n",
      "  [[1 3 4]\n",
      "   [2 2 3]\n",
      "   [2 1 1]]]\n",
      "\n",
      "\n",
      " [[[3 2 4]\n",
      "   [4 3 1]\n",
      "   [0 3 0]]\n",
      "\n",
      "  [[2 4 3]\n",
      "   [3 1 0]\n",
      "   [3 0 3]]\n",
      "\n",
      "  [[4 3 4]\n",
      "   [1 0 2]\n",
      "   [0 3 3]]\n",
      "\n",
      "  [[3 4 2]\n",
      "   [0 2 0]\n",
      "   [3 3 3]]\n",
      "\n",
      "  [[4 2 3]\n",
      "   [2 0 2]\n",
      "   [3 3 3]]\n",
      "\n",
      "  [[2 3 2]\n",
      "   [0 2 2]\n",
      "   [3 3 1]]\n",
      "\n",
      "  [[3 2 2]\n",
      "   [2 2 1]\n",
      "   [3 1 1]]\n",
      "\n",
      "  [[2 2 3]\n",
      "   [2 1 1]\n",
      "   [1 1 1]]]\n",
      "\n",
      "\n",
      " [[[4 3 1]\n",
      "   [0 3 0]\n",
      "   [3 0 3]]\n",
      "\n",
      "  [[3 1 0]\n",
      "   [3 0 3]\n",
      "   [0 3 1]]\n",
      "\n",
      "  [[1 0 2]\n",
      "   [0 3 3]\n",
      "   [3 1 3]]\n",
      "\n",
      "  [[0 2 0]\n",
      "   [3 3 3]\n",
      "   [1 3 0]]\n",
      "\n",
      "  [[2 0 2]\n",
      "   [3 3 3]\n",
      "   [3 0 4]]\n",
      "\n",
      "  [[0 2 2]\n",
      "   [3 3 1]\n",
      "   [0 4 0]]\n",
      "\n",
      "  [[2 2 1]\n",
      "   [3 1 1]\n",
      "   [4 0 3]]\n",
      "\n",
      "  [[2 1 1]\n",
      "   [1 1 1]\n",
      "   [0 3 1]]]\n",
      "\n",
      "\n",
      " [[[0 3 0]\n",
      "   [3 0 3]\n",
      "   [4 0 4]]\n",
      "\n",
      "  [[3 0 3]\n",
      "   [0 3 1]\n",
      "   [0 4 3]]\n",
      "\n",
      "  [[0 3 3]\n",
      "   [3 1 3]\n",
      "   [4 3 2]]\n",
      "\n",
      "  [[3 3 3]\n",
      "   [1 3 0]\n",
      "   [3 2 0]]\n",
      "\n",
      "  [[3 3 3]\n",
      "   [3 0 4]\n",
      "   [2 0 4]]\n",
      "\n",
      "  [[3 3 1]\n",
      "   [0 4 0]\n",
      "   [0 4 4]]\n",
      "\n",
      "  [[3 1 1]\n",
      "   [4 0 3]\n",
      "   [4 4 1]]\n",
      "\n",
      "  [[1 1 1]\n",
      "   [0 3 1]\n",
      "   [4 1 4]]]\n",
      "\n",
      "\n",
      " [[[3 0 3]\n",
      "   [4 0 4]\n",
      "   [4 1 0]]\n",
      "\n",
      "  [[0 3 1]\n",
      "   [0 4 3]\n",
      "   [1 0 1]]\n",
      "\n",
      "  [[3 1 3]\n",
      "   [4 3 2]\n",
      "   [0 1 2]]\n",
      "\n",
      "  [[1 3 0]\n",
      "   [3 2 0]\n",
      "   [1 2 0]]\n",
      "\n",
      "  [[3 0 4]\n",
      "   [2 0 4]\n",
      "   [2 0 0]]\n",
      "\n",
      "  [[0 4 0]\n",
      "   [0 4 4]\n",
      "   [0 0 2]]\n",
      "\n",
      "  [[4 0 3]\n",
      "   [4 4 1]\n",
      "   [0 2 2]]\n",
      "\n",
      "  [[0 3 1]\n",
      "   [4 1 4]\n",
      "   [2 2 4]]]\n",
      "\n",
      "\n",
      " [[[4 0 4]\n",
      "   [4 1 0]\n",
      "   [0 1 3]]\n",
      "\n",
      "  [[0 4 3]\n",
      "   [1 0 1]\n",
      "   [1 3 0]]\n",
      "\n",
      "  [[4 3 2]\n",
      "   [0 1 2]\n",
      "   [3 0 3]]\n",
      "\n",
      "  [[3 2 0]\n",
      "   [1 2 0]\n",
      "   [0 3 1]]\n",
      "\n",
      "  [[2 0 4]\n",
      "   [2 0 0]\n",
      "   [3 1 0]]\n",
      "\n",
      "  [[0 4 4]\n",
      "   [0 0 2]\n",
      "   [1 0 4]]\n",
      "\n",
      "  [[4 4 1]\n",
      "   [0 2 2]\n",
      "   [0 4 3]]\n",
      "\n",
      "  [[4 1 4]\n",
      "   [2 2 4]\n",
      "   [4 3 3]]]\n",
      "\n",
      "\n",
      " [[[4 1 0]\n",
      "   [0 1 3]\n",
      "   [0 3 0]]\n",
      "\n",
      "  [[1 0 1]\n",
      "   [1 3 0]\n",
      "   [3 0 4]]\n",
      "\n",
      "  [[0 1 2]\n",
      "   [3 0 3]\n",
      "   [0 4 2]]\n",
      "\n",
      "  [[1 2 0]\n",
      "   [0 3 1]\n",
      "   [4 2 3]]\n",
      "\n",
      "  [[2 0 0]\n",
      "   [3 1 0]\n",
      "   [2 3 0]]\n",
      "\n",
      "  [[0 0 2]\n",
      "   [1 0 4]\n",
      "   [3 0 1]]\n",
      "\n",
      "  [[0 2 2]\n",
      "   [0 4 3]\n",
      "   [0 1 4]]\n",
      "\n",
      "  [[2 2 4]\n",
      "   [4 3 3]\n",
      "   [1 4 4]]]\n",
      "\n",
      "\n",
      " [[[0 1 3]\n",
      "   [0 3 0]\n",
      "   [3 2 4]]\n",
      "\n",
      "  [[1 3 0]\n",
      "   [3 0 4]\n",
      "   [2 4 2]]\n",
      "\n",
      "  [[3 0 3]\n",
      "   [0 4 2]\n",
      "   [4 2 3]]\n",
      "\n",
      "  [[0 3 1]\n",
      "   [4 2 3]\n",
      "   [2 3 1]]\n",
      "\n",
      "  [[3 1 0]\n",
      "   [2 3 0]\n",
      "   [3 1 4]]\n",
      "\n",
      "  [[1 0 4]\n",
      "   [3 0 1]\n",
      "   [1 4 2]]\n",
      "\n",
      "  [[0 4 3]\n",
      "   [0 1 4]\n",
      "   [4 2 2]]\n",
      "\n",
      "  [[4 3 3]\n",
      "   [1 4 4]\n",
      "   [2 2 2]]]]\n"
     ]
    }
   ],
   "source": []
  },
  {
   "cell_type": "code",
   "execution_count": 7,
   "metadata": {},
   "outputs": [
    {
     "data": {
      "image/png": "[encoded data removed]",
      "text/plain": [
       "<matplotlib.figure.Figure at 0x10a6c9860>"
      ]
     },
     "metadata": {},
     "output_type": "display_data"
    },
    {
     "data": {
      "image/png": "[encoded data removed]",
      "text/plain": [
       "<matplotlib.figure.Figure at 0x10d128978>"
      ]
     },
     "metadata": {},
     "output_type": "display_data"
    }
   ],
   "source": [
    "import numpy as np\n",
    "A = np.array([\n",
    "[12, 13, 14, 12, 16, 14, 11, 10,  9],\n",
    "[11, 14, 12, 15, 15, 16, 10, 12, 11],\n",
    "[10, 12, 12, 15, 14, 16, 10, 12, 12],\n",
    "[ 9, 11, 16, 15, 14, 16, 15, 12, 10],\n",
    "[12, 11, 16, 14, 10, 12, 16, 12, 13],\n",
    "[10, 15, 16, 14, 14, 14, 16, 15, 12],\n",
    "[13, 17, 14, 10, 14, 11, 14, 15, 10],\n",
    "[10, 16, 12, 14, 11, 12, 14, 18, 11],\n",
    "[10, 19, 12, 14, 11, 12, 14, 18, 10],\n",
    "[14, 22, 17, 19, 16, 17, 18, 17, 13],\n",
    "[10, 16, 12, 14, 11, 12, 14, 18, 11],\n",
    "[10, 16, 12, 14, 11, 12, 14, 18, 11],\n",
    "[10, 19, 12, 14, 11, 12, 14, 18, 10],\n",
    "[14, 22, 12, 14, 11, 12, 14, 17, 13],\n",
    "[10, 16, 12, 14, 11, 12, 14, 18, 11]])\n",
    "B = A < 15\n",
    "B.astype(np.int)\n",
    "import matplotlib.pyplot as plt\n",
    "plt.imshow(A, cmap=\"bone\")\n",
    "plt.show()\n",
    "plt.imshow(B, cmap=\"bone\")\n",
    "plt.show()"
   ]
  },
  {
   "cell_type": "code",
   "execution_count": null,
   "metadata": {},
   "outputs": [],
   "source": []
  }
 ],
 "metadata": {
  "kernelspec": {
   "display_name": "Python 3",
   "language": "python",
   "name": "python3"
  },
  "language_info": {
   "codemirror_mode": {
    "name": "ipython",
    "version": 3
   },
   "file_extension": ".py",
   "mimetype": "text/x-python",
   "name": "python",
   "nbconvert_exporter": "python",
   "pygments_lexer": "ipython3",
   "version": "3.6.2"
  }
 },
 "nbformat": 4,
 "nbformat_minor": 2
}
