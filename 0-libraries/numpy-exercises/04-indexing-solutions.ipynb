{
 "cells": [
  {
   "cell_type": "code",
   "execution_count": 2,
   "metadata": {},
   "outputs": [],
   "source": [
    "import numpy as np"
   ]
  },
  {
   "cell_type": "markdown",
   "metadata": {},
   "source": [
    "10. Find indices of non-zero elements from [1,2,0,0,4,0] (★☆☆)"
   ]
  },
  {
   "cell_type": "code",
   "execution_count": 3,
   "metadata": {},
   "outputs": [
    {
     "name": "stdout",
     "output_type": "stream",
     "text": [
      "(array([0, 1, 4]),)\n"
     ]
    }
   ],
   "source": [
    "nz = np.nonzero([1,2,0,0,4,0])\n",
    "print(nz)\n"
   ]
  },
  {
   "cell_type": "markdown",
   "metadata": {},
   "source": [
    "57. How to randomly place p elements in a 2D array? (★★☆)\n",
    "\n",
    "Author: Divakar"
   ]
  },
  {
   "cell_type": "markdown",
   "metadata": {},
   "source": [
    "55. What is the equivalent of enumerate for numpy arrays? (★★☆)"
   ]
  },
  {
   "cell_type": "code",
   "execution_count": 18,
   "metadata": {},
   "outputs": [
    {
     "name": "stdout",
     "output_type": "stream",
     "text": [
      "(0, 0) 0\n",
      "(0, 1) 1\n",
      "(0, 2) 2\n",
      "(1, 0) 3\n",
      "(1, 1) 4\n",
      "(1, 2) 5\n",
      "(2, 0) 6\n",
      "(2, 1) 7\n",
      "(2, 2) 8\n",
      "(0, 0) 0\n",
      "(0, 1) 1\n",
      "(0, 2) 2\n",
      "(1, 0) 3\n",
      "(1, 1) 4\n",
      "(1, 2) 5\n",
      "(2, 0) 6\n",
      "(2, 1) 7\n",
      "(2, 2) 8\n"
     ]
    }
   ],
   "source": [
    "Z = np.arange(9).reshape(3,3)\n",
    "for index, value in np.ndenumerate(Z):\n",
    "    print(index, value)\n",
    "for index in np.ndindex(Z.shape):\n",
    "    print(index, Z[index])\n"
   ]
  },
  {
   "cell_type": "code",
   "execution_count": 15,
   "metadata": {},
   "outputs": [
    {
     "name": "stdout",
     "output_type": "stream",
     "text": [
      "[[ 0.  0.  0.  0.  0.  0.  0.  0.  0.  0.]\n",
      " [ 0.  0.  0.  0.  0.  0.  0.  0.  0.  0.]\n",
      " [ 0.  0.  0.  0.  1.  0.  0.  0.  0.  0.]\n",
      " [ 0.  0.  0.  0.  0.  0.  0.  0.  0.  0.]\n",
      " [ 0.  0.  0.  0.  0.  0.  0.  0.  0.  0.]\n",
      " [ 0.  0.  0.  0.  0.  0.  0.  0.  0.  0.]\n",
      " [ 0.  0.  0.  0.  0.  1.  0.  0.  0.  0.]\n",
      " [ 0.  0.  0.  0.  0.  1.  0.  0.  0.  0.]\n",
      " [ 0.  0.  0.  0.  0.  0.  0.  0.  0.  0.]\n",
      " [ 0.  0.  0.  0.  0.  0.  0.  0.  0.  0.]]\n"
     ]
    }
   ],
   "source": [
    "n = 10\n",
    "p = 3\n",
    "Z = np.zeros((n,n))\n",
    "np.put(Z, np.random.choice(range(n*n), p, replace=False),1)\n",
    "print(Z)\n"
   ]
  },
  {
   "cell_type": "markdown",
   "metadata": {},
   "source": [
    "62. Considering two arrays with shape (1,3) and (3,1), how to compute their sum using an iterator? (★★☆)"
   ]
  },
  {
   "cell_type": "code",
   "execution_count": 17,
   "metadata": {},
   "outputs": [
    {
     "name": "stdout",
     "output_type": "stream",
     "text": [
      "[[0 1 2]\n",
      " [1 2 3]\n",
      " [2 3 4]]\n"
     ]
    }
   ],
   "source": [
    "A = np.arange(3).reshape(3,1)\n",
    "B = np.arange(3).reshape(1,3)\n",
    "it = np.nditer([A,B,None])\n",
    "for x,y,z in it: z[...] = x + y\n",
    "print(it.operands[2])\n"
   ]
  },
  {
   "cell_type": "markdown",
   "metadata": {},
   "source": [
    "93. Consider two arrays A and B of shape (8,3) and (2,2). How to find rows of A that contain elements of each row of B regardless of the order of the elements in B? (★★★)\n",
    "\n",
    "Author: Gabe Schwartz"
   ]
  },
  {
   "cell_type": "code",
   "execution_count": 4,
   "metadata": {},
   "outputs": [
    {
     "name": "stdout",
     "output_type": "stream",
     "text": [
      "[1]\n"
     ]
    }
   ],
   "source": [
    "A = np.random.randint(0,5,(8,3))\n",
    "B = np.random.randint(0,5,(2,2))\n",
    "\n",
    "C = (A[..., np.newaxis, np.newaxis] == B)\n",
    "rows = np.where(C.any((3,1)).all(1))[0]\n",
    "print(rows)\n"
   ]
  },
  {
   "cell_type": "markdown",
   "metadata": {},
   "source": [
    "90. Given an arbitrary number of vectors, build the cartesian product (every combinations of every item) (★★★)\n",
    "\n",
    "Author: Stefan Van der Walt"
   ]
  },
  {
   "cell_type": "code",
   "execution_count": 7,
   "metadata": {},
   "outputs": [
    {
     "name": "stdout",
     "output_type": "stream",
     "text": [
      "[[1 4 6]\n",
      " [1 4 7]\n",
      " [1 5 6]\n",
      " [1 5 7]\n",
      " [2 4 6]\n",
      " [2 4 7]\n",
      " [2 5 6]\n",
      " [2 5 7]\n",
      " [3 4 6]\n",
      " [3 4 7]\n",
      " [3 5 6]\n",
      " [3 5 7]]\n"
     ]
    }
   ],
   "source": [
    "def cartesian(arrays):\n",
    "    arrays = [np.asarray(a) for a in arrays]\n",
    "    shape = (len(x) for x in arrays)\n",
    "\n",
    "    ix = np.indices(shape, dtype=int)\n",
    "    ix = ix.reshape(len(arrays), -1).T\n",
    "\n",
    "    for n, arr in enumerate(arrays):\n",
    "        ix[:, n] = arrays[n][ix[:, n]]\n",
    "\n",
    "    return ix\n",
    "\n",
    "print (cartesian(([1, 2, 3], [4, 5], [6, 7])))\n"
   ]
  },
  {
   "cell_type": "markdown",
   "metadata": {},
   "source": [
    "20. Consider a (6,7,8) shape array, what is the index (x,y,z) of the 100th element?"
   ]
  },
  {
   "cell_type": "code",
   "execution_count": 9,
   "metadata": {},
   "outputs": [
    {
     "name": "stdout",
     "output_type": "stream",
     "text": [
      "(1, 5, 4)\n"
     ]
    }
   ],
   "source": [
    "print(np.unravel_index(100,(6,7,8)))\n"
   ]
  },
  {
   "cell_type": "markdown",
   "metadata": {},
   "source": [
    "81. Consider an array Z = [1,2,3,4,5,6,7,8,9,10,11,12,13,14], how to generate an array R = [[1,2,3,4], [2,3,4,5], [3,4,5,6], ..., [11,12,13,14]]? (★★★)\n",
    "\n",
    "Author: Stefan van der Walt"
   ]
  },
  {
   "cell_type": "code",
   "execution_count": 13,
   "metadata": {},
   "outputs": [
    {
     "name": "stdout",
     "output_type": "stream",
     "text": [
      "[[ 1  2  3  4]\n",
      " [ 2  3  4  5]\n",
      " [ 3  4  5  6]\n",
      " [ 4  5  6  7]\n",
      " [ 5  6  7  8]\n",
      " [ 6  7  8  9]\n",
      " [ 7  8  9 10]\n",
      " [ 8  9 10 11]\n",
      " [ 9 10 11 12]\n",
      " [10 11 12 13]\n",
      " [11 12 13 14]]\n"
     ]
    }
   ],
   "source": [
    "Z = np.arange(1,15,dtype=np.uint32)\n",
    "R = stride_tricks.as_strided(Z,(11,4),(4,4))\n",
    "print(R)\n"
   ]
  },
  {
   "cell_type": "markdown",
   "metadata": {},
   "source": [
    "84. Extract all the contiguous 3x3 blocks from a random 10x10 matrix (★★★)\n",
    "\n",
    "Author: Chris Barker"
   ]
  },
  {
   "cell_type": "code",
   "execution_count": 12,
   "metadata": {},
   "outputs": [
    {
     "name": "stdout",
     "output_type": "stream",
     "text": [
      "[[[[1 2 2]\n",
      "   [3 2 4]\n",
      "   [4 3 1]]\n",
      "\n",
      "  [[2 2 2]\n",
      "   [2 4 3]\n",
      "   [3 1 0]]\n",
      "\n",
      "  [[2 2 3]\n",
      "   [4 3 4]\n",
      "   [1 0 2]]\n",
      "\n",
      "  [[2 3 4]\n",
      "   [3 4 2]\n",
      "   [0 2 0]]\n",
      "\n",
      "  [[3 4 0]\n",
      "   [4 2 3]\n",
      "   [2 0 2]]\n",
      "\n",
      "  [[4 0 1]\n",
      "   [2 3 2]\n",
      "   [0 2 2]]\n",
      "\n",
      "  [[0 1 3]\n",
      "   [3 2 2]\n",
      "   [2 2 1]]\n",
      "\n",
      "  [[1 3 4]\n",
      "   [2 2 3]\n",
      "   [2 1 1]]]\n",
      "\n",
      "\n",
      " [[[3 2 4]\n",
      "   [4 3 1]\n",
      "   [0 3 0]]\n",
      "\n",
      "  [[2 4 3]\n",
      "   [3 1 0]\n",
      "   [3 0 3]]\n",
      "\n",
      "  [[4 3 4]\n",
      "   [1 0 2]\n",
      "   [0 3 3]]\n",
      "\n",
      "  [[3 4 2]\n",
      "   [0 2 0]\n",
      "   [3 3 3]]\n",
      "\n",
      "  [[4 2 3]\n",
      "   [2 0 2]\n",
      "   [3 3 3]]\n",
      "\n",
      "  [[2 3 2]\n",
      "   [0 2 2]\n",
      "   [3 3 1]]\n",
      "\n",
      "  [[3 2 2]\n",
      "   [2 2 1]\n",
      "   [3 1 1]]\n",
      "\n",
      "  [[2 2 3]\n",
      "   [2 1 1]\n",
      "   [1 1 1]]]\n",
      "\n",
      "\n",
      " [[[4 3 1]\n",
      "   [0 3 0]\n",
      "   [3 0 3]]\n",
      "\n",
      "  [[3 1 0]\n",
      "   [3 0 3]\n",
      "   [0 3 1]]\n",
      "\n",
      "  [[1 0 2]\n",
      "   [0 3 3]\n",
      "   [3 1 3]]\n",
      "\n",
      "  [[0 2 0]\n",
      "   [3 3 3]\n",
      "   [1 3 0]]\n",
      "\n",
      "  [[2 0 2]\n",
      "   [3 3 3]\n",
      "   [3 0 4]]\n",
      "\n",
      "  [[0 2 2]\n",
      "   [3 3 1]\n",
      "   [0 4 0]]\n",
      "\n",
      "  [[2 2 1]\n",
      "   [3 1 1]\n",
      "   [4 0 3]]\n",
      "\n",
      "  [[2 1 1]\n",
      "   [1 1 1]\n",
      "   [0 3 1]]]\n",
      "\n",
      "\n",
      " [[[0 3 0]\n",
      "   [3 0 3]\n",
      "   [4 0 4]]\n",
      "\n",
      "  [[3 0 3]\n",
      "   [0 3 1]\n",
      "   [0 4 3]]\n",
      "\n",
      "  [[0 3 3]\n",
      "   [3 1 3]\n",
      "   [4 3 2]]\n",
      "\n",
      "  [[3 3 3]\n",
      "   [1 3 0]\n",
      "   [3 2 0]]\n",
      "\n",
      "  [[3 3 3]\n",
      "   [3 0 4]\n",
      "   [2 0 4]]\n",
      "\n",
      "  [[3 3 1]\n",
      "   [0 4 0]\n",
      "   [0 4 4]]\n",
      "\n",
      "  [[3 1 1]\n",
      "   [4 0 3]\n",
      "   [4 4 1]]\n",
      "\n",
      "  [[1 1 1]\n",
      "   [0 3 1]\n",
      "   [4 1 4]]]\n",
      "\n",
      "\n",
      " [[[3 0 3]\n",
      "   [4 0 4]\n",
      "   [4 1 0]]\n",
      "\n",
      "  [[0 3 1]\n",
      "   [0 4 3]\n",
      "   [1 0 1]]\n",
      "\n",
      "  [[3 1 3]\n",
      "   [4 3 2]\n",
      "   [0 1 2]]\n",
      "\n",
      "  [[1 3 0]\n",
      "   [3 2 0]\n",
      "   [1 2 0]]\n",
      "\n",
      "  [[3 0 4]\n",
      "   [2 0 4]\n",
      "   [2 0 0]]\n",
      "\n",
      "  [[0 4 0]\n",
      "   [0 4 4]\n",
      "   [0 0 2]]\n",
      "\n",
      "  [[4 0 3]\n",
      "   [4 4 1]\n",
      "   [0 2 2]]\n",
      "\n",
      "  [[0 3 1]\n",
      "   [4 1 4]\n",
      "   [2 2 4]]]\n",
      "\n",
      "\n",
      " [[[4 0 4]\n",
      "   [4 1 0]\n",
      "   [0 1 3]]\n",
      "\n",
      "  [[0 4 3]\n",
      "   [1 0 1]\n",
      "   [1 3 0]]\n",
      "\n",
      "  [[4 3 2]\n",
      "   [0 1 2]\n",
      "   [3 0 3]]\n",
      "\n",
      "  [[3 2 0]\n",
      "   [1 2 0]\n",
      "   [0 3 1]]\n",
      "\n",
      "  [[2 0 4]\n",
      "   [2 0 0]\n",
      "   [3 1 0]]\n",
      "\n",
      "  [[0 4 4]\n",
      "   [0 0 2]\n",
      "   [1 0 4]]\n",
      "\n",
      "  [[4 4 1]\n",
      "   [0 2 2]\n",
      "   [0 4 3]]\n",
      "\n",
      "  [[4 1 4]\n",
      "   [2 2 4]\n",
      "   [4 3 3]]]\n",
      "\n",
      "\n",
      " [[[4 1 0]\n",
      "   [0 1 3]\n",
      "   [0 3 0]]\n",
      "\n",
      "  [[1 0 1]\n",
      "   [1 3 0]\n",
      "   [3 0 4]]\n",
      "\n",
      "  [[0 1 2]\n",
      "   [3 0 3]\n",
      "   [0 4 2]]\n",
      "\n",
      "  [[1 2 0]\n",
      "   [0 3 1]\n",
      "   [4 2 3]]\n",
      "\n",
      "  [[2 0 0]\n",
      "   [3 1 0]\n",
      "   [2 3 0]]\n",
      "\n",
      "  [[0 0 2]\n",
      "   [1 0 4]\n",
      "   [3 0 1]]\n",
      "\n",
      "  [[0 2 2]\n",
      "   [0 4 3]\n",
      "   [0 1 4]]\n",
      "\n",
      "  [[2 2 4]\n",
      "   [4 3 3]\n",
      "   [1 4 4]]]\n",
      "\n",
      "\n",
      " [[[0 1 3]\n",
      "   [0 3 0]\n",
      "   [3 2 4]]\n",
      "\n",
      "  [[1 3 0]\n",
      "   [3 0 4]\n",
      "   [2 4 2]]\n",
      "\n",
      "  [[3 0 3]\n",
      "   [0 4 2]\n",
      "   [4 2 3]]\n",
      "\n",
      "  [[0 3 1]\n",
      "   [4 2 3]\n",
      "   [2 3 1]]\n",
      "\n",
      "  [[3 1 0]\n",
      "   [2 3 0]\n",
      "   [3 1 4]]\n",
      "\n",
      "  [[1 0 4]\n",
      "   [3 0 1]\n",
      "   [1 4 2]]\n",
      "\n",
      "  [[0 4 3]\n",
      "   [0 1 4]\n",
      "   [4 2 2]]\n",
      "\n",
      "  [[4 3 3]\n",
      "   [1 4 4]\n",
      "   [2 2 2]]]]\n"
     ]
    }
   ],
   "source": [
    "from numpy.lib import stride_tricks\n",
    "\n",
    "Z = np.random.randint(0,5,(10,10))\n",
    "n = 3\n",
    "i = 1 + (Z.shape[0]-3)\n",
    "j = 1 + (Z.shape[1]-3)\n",
    "C = stride_tricks.as_strided(Z, shape=(i, j, n, n), strides=Z.strides + Z.strides)\n",
    "print(C)"
   ]
  },
  {
   "cell_type": "code",
   "execution_count": null,
   "metadata": {},
   "outputs": [],
   "source": []
  }
 ],
 "metadata": {
  "kernelspec": {
   "display_name": "Python 3",
   "language": "python",
   "name": "python3"
  },
  "language_info": {
   "codemirror_mode": {
    "name": "ipython",
    "version": 3
   },
   "file_extension": ".py",
   "mimetype": "text/x-python",
   "name": "python",
   "nbconvert_exporter": "python",
   "pygments_lexer": "ipython3",
   "version": "3.6.2"
  }
 },
 "nbformat": 4,
 "nbformat_minor": 2
}
